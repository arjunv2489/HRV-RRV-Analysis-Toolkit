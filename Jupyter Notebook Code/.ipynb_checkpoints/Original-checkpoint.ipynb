{
 "cells": [
  {
   "cell_type": "code",
   "execution_count": null,
   "metadata": {},
   "outputs": [],
   "source": [
    "import mne\n",
    "import matplotlib.pyplot as plt\n",
    "file = \"dataset/Balakrishna.edf\"\n",
    "data = mne.io.read_raw_edf(file)\n",
    "raw_data = data.get_data()\n",
    "# you can get the metadata included in the file and a list of all channels:\n",
    "info = data.info\n",
    "channels = data.ch_names"
   ]
  },
  {
   "cell_type": "code",
   "execution_count": null,
   "metadata": {},
   "outputs": [],
   "source": [
    "ecgl = raw_data[27]\n",
    "ecgr = raw_data[28]\n",
    "sig = ecgl - ecgr\n"
   ]
  },
  {
   "cell_type": "code",
   "execution_count": null,
   "metadata": {},
   "outputs": [],
   "source": [
    "# import heartpy as hp\n",
    "import numpy as np\n",
    "from scipy.signal import butter, freqs, filtfilt\n",
    "import matplotlib.pyplot as plt\n",
    "from scipy.signal import find_peaks\n",
    "\n",
    "fs = 256\n",
    "n = len(sig)\n",
    "# n = 1000\n",
    "fc = 4\n",
    "duration_sec = n / fs\n",
    "duration_min = duration_sec / 60\n",
    "\n",
    "b, a = butter(6, fc/(fs/2), 'low', analog=False)\n",
    "# w, h = freqs(b, a)\n",
    "\n",
    "y = filtfilt(b, a, sig[:])\n",
    "\n",
    "peaks, _ = find_peaks(y, distance = 150, height=0)\n",
    "plt.plot(y, 'b-', linewidth=1)\n",
    "\n",
    "plt.plot(peaks, y[peaks], \"*\", color=\"red\")\n",
    "plt.show()"
   ]
  },
  {
   "cell_type": "code",
   "execution_count": null,
   "metadata": {},
   "outputs": [],
   "source": [
    "len(peaks)"
   ]
  },
  {
   "cell_type": "markdown",
   "metadata": {},
   "source": [
    "# BPM Average"
   ]
  },
  {
   "cell_type": "code",
   "execution_count": null,
   "metadata": {},
   "outputs": [],
   "source": [
    "# print(len(peaks))\n",
    "beat_count = len(peaks)\n",
    "fs = 256\n",
    "n = len(sig)\n",
    "duration_sec = n/fs\n",
    "duration_min = duration_sec/60\n",
    "bpm_avg = beat_count/duration_min\n",
    "print(bpm_avg)\n",
    "print(duration_min/60)"
   ]
  },
  {
   "cell_type": "code",
   "execution_count": null,
   "metadata": {},
   "outputs": [],
   "source": [
    "duration_min"
   ]
  },
  {
   "cell_type": "markdown",
   "metadata": {},
   "source": [
    "# Peak Interval Average"
   ]
  },
  {
   "cell_type": "code",
   "execution_count": null,
   "metadata": {},
   "outputs": [],
   "source": [
    "inter_peak_interval = []\n",
    "inter_peak_interval_index = []\n",
    "\n",
    "for i in range(0, len(y[peaks])-1):\n",
    "        inter_peak_interval.append(y[peaks][i+1] - y[peaks][i])\n",
    "        inter_peak_interval_index.append(i)\n",
    "    \n",
    "ipi_mean = np.array(inter_peak_interval).mean()\n",
    "# plt.plot(y, 'b-', linewidth=1)\n",
    "plt.plot(inter_peak_interval_index, inter_peak_interval)\n",
    "\n",
    "# print(peaks)\n",
    "print('Peak Interval average: ',ipi_mean)"
   ]
  },
  {
   "cell_type": "code",
   "execution_count": null,
   "metadata": {},
   "outputs": [],
   "source": [
    "inter_peak_time = []\n",
    "for i in range(0, len(y[peaks])-1):\n",
    "    inter_peak_time.append(((peaks[i+1] - peaks[i]))/60)\n",
    "    \n",
    "ipt_mean = np.array(inter_peak_time).mean()\n",
    "ipt_max = np.array(peak_time).max()\n",
    "ipt_min = np.array(peak_time).min()\n",
    "# print(inter_peak_time)\n",
    "\n",
    "# print(peaks)\n",
    "print('Peak Interval average: ',ipt_mean)\n",
    "print('Peak Interval Max: ',ipt_max)\n",
    "print('Peak Interval Min: ',ipt_min)"
   ]
  },
  {
   "cell_type": "markdown",
   "metadata": {},
   "source": [
    "# Average Peak Time"
   ]
  },
  {
   "cell_type": "code",
   "execution_count": null,
   "metadata": {},
   "outputs": [],
   "source": [
    "peak_time = []\n",
    "for i in range(0, len(peaks)):\n",
    "    peak_time.append((peaks[i]/256)/60)\n",
    "    \n",
    "\n",
    "pt_mean = np.array(peak_time).mean()\n",
    "print( pt_mean)"
   ]
  },
  {
   "cell_type": "markdown",
   "metadata": {},
   "source": [
    "# Max Min b/w section"
   ]
  },
  {
   "cell_type": "code",
   "execution_count": null,
   "metadata": {},
   "outputs": [],
   "source": [
    "index = []\n",
    "for i in range(len(peaks)):\n",
    "    if peaks[i]>= 10000 and peaks[i]<=30000:\n",
    "        index.append(i)\n",
    "# print(index)\n",
    "\n",
    "peak_copy = y[peaks].copy()\n",
    "\n",
    "begin = index[0]\n",
    "end = index[-1]\n",
    "\n",
    "print('Max',y[peaks][begin:end+1].max())\n",
    "print('Min',y[peaks][begin:end+1].min())\n",
    "\n",
    "max = y[peaks][begin:end+1].max()\n",
    "min = y[peaks][begin:end+1].min()\n",
    "outliers = []\n",
    "outliers_index = []\n",
    "for i in range(len(y[peaks])):\n",
    "#     print(i)\n",
    "    if y[peaks][i] > max :\n",
    "        outliers.append(y[peaks])\n",
    "        outliers_index.append(i)\n",
    "        peak_copy[i] = max\n",
    "        \n",
    "        \n",
    "print(len(outliers))\n",
    "# print(outliers)\n",
    "print(len(peaks))\n",
    "print(peak_copy.max())\n",
    "\n",
    "y[peaks] = peak_copy\n",
    "print(y[peaks].max())\n",
    "plt.plot(y, 'b-', linewidth=1)\n",
    "\n",
    "plt.plot(peaks, peak_copy, \"*\", color=\"red\")"
   ]
  },
  {
   "cell_type": "markdown",
   "metadata": {},
   "source": [
    "# Average Peak Value"
   ]
  },
  {
   "cell_type": "code",
   "execution_count": null,
   "metadata": {},
   "outputs": [],
   "source": [
    "peak_mean= np.array(y[peaks]).mean()\n",
    "print(np.array(y[peaks]).mean())"
   ]
  },
  {
   "cell_type": "markdown",
   "metadata": {},
   "source": [
    "# MULTIFILE"
   ]
  },
  {
   "cell_type": "code",
   "execution_count": null,
   "metadata": {},
   "outputs": [],
   "source": [
    "import mne\n",
    "import numpy as np\n",
    "import pandas as pd\n",
    "from os import listdir\n",
    "from os.path import isfile, join\n",
    "# import heartpy as hp\n",
    "from scipy.signal import butter, freqs, filtfilt\n",
    "import matplotlib.pyplot as plt\n",
    "from scipy.signal import find_peaks\n",
    "\n",
    "onlyfiles = [f for f in listdir(\"./dataset\") if isfile(join(\"./dataset\", f))]\n",
    "df = pd.DataFrame([])\n",
    "def find_time(sig):\n",
    "    time = ((sig/256)/60)/60\n",
    "    print(\"Time: \", time , \"\\nLength: \",sig)\n",
    "    return ((sig/256)/60)/60\n",
    "\n",
    "\n",
    "def channel_id(channel, val):   \n",
    "    j =0\n",
    "    for i in channel:\n",
    "        if(i == val):\n",
    "            return j\n",
    "        \n",
    "        j+=1\n",
    "        \n",
    "current = 1\n",
    "total = len(onlyfiles)\n",
    "for file in onlyfiles:\n",
    "    filename = file\n",
    "    file = join(\"./dataset\", file)\n",
    "    print(\"Processing..\", file, current,\"/\",total)\n",
    "    data = mne.io.read_raw_edf(file)\n",
    "    info = data.info\n",
    "    channels = data.ch_names\n",
    "    raw_data = data.get_data()\n",
    "    \n",
    "    del data\n",
    "    \n",
    "    # you can get the metadata included in the file and a list of all channels:\n",
    "    \n",
    "    ecgl = raw_data[channel_id(channels,'ECGL')]\n",
    "    ecgr = raw_data[channel_id(channels,'ECGR')]\n",
    "    del raw_data\n",
    "    \n",
    "    sig = ecgl[:15360] -ecgr[:15360]\n",
    "    del ecgl\n",
    "    del ecgr\n",
    "#   print(\"Signal Loaded..\")\n",
    "\n",
    "#     fs = 256\n",
    "#     n = len(sig)\n",
    "#     # n = 1000\n",
    "#     fc = 4\n",
    "#     duration_sec = n / fs\n",
    "#     duration_min = duration_sec / 60\n",
    "\n",
    "#     b, a = butter(6, fc/(fs/2), 'low', analog=False)\n",
    "#     # w, h = freqs(b, a)\n",
    "\n",
    "#     y = filtfilt(b, a, sig[:600])\n",
    "\n",
    "    b, a = butter(6, fc/(fs/2), 'low', analog=False)\n",
    "\n",
    "    # Filtering the signal\n",
    "    y = filtfilt(b, a, sig[:])\n",
    "\n",
    "#     peaks, _ = find_peaks(sig, distance = 150, height=0)\n",
    "#     peaks_num = (len(peaks))                             # Contains the total no. of peaks\n",
    "#     plt.plot(sig, 'b-', linewidth = 1)\n",
    "#     plt.plot(peaks, y[peaks], \"*\", color=\"red\")          # Plotting the peak points\n",
    "#     # fig1 = plt.gfc()\n",
    "#     plt.show()   \n",
    "    peaks, _ = find_peaks(y, distance = 150, height=0)\n",
    "    peaks_num = (len(peaks))                             # Contains the total no. of peaks\n",
    "    plt.plot(sig, 'b-', linewidth = 1)\n",
    "    plt.plot(peaks, y[peaks], \"*\", color=\"red\")          # Plotting the peak points\n",
    "    # fig1 = plt.gfc()\n",
    "    plt.show()   \n",
    "    \n",
    "#     fig1.savefig(file.split(\".\")[0]+\".png\", dpi= 100)\n",
    "    beat_count = len(peaks)\n",
    "    fs = 256\n",
    "    n = len(sig)\n",
    "    duration_sec = n/fs\n",
    "    duration_min = duration_sec/60\n",
    "    bpm_avg = beat_count/duration_min\n",
    "    print(bpm_avg)\n",
    "    \n",
    "    \n",
    "    peak_time = []\n",
    "    for i in range(0, len(peaks)):\n",
    "        peak_time.append(peaks[i]/256)\n",
    "    pt_mean = np.array(peak_time).mean()\n",
    "    \n",
    "    inter_peak_time = []\n",
    "    rmsd_sum = 0\n",
    "    for i in range(0, len(y[peaks])-1):\n",
    "        inter_peak_time.append((peaks[i+1]/256)*1000 - (peaks[i]/256)*1000)\n",
    "        rmsd_sum += pow((peaks[i+1]/256)*1000 - (peaks[i]/256)*1000, 2)\n",
    "        \n",
    "\n",
    "\n",
    "    ipt_mean = np.array(inter_peak_time).mean()\n",
    "    ipt_max = np.array(inter_peak_time).max()\n",
    "    ipt_min = np.array(inter_peak_time).min()    \n",
    "    \n",
    "    sdnn = np.array(inter_peak_time).std()\n",
    "    rmsd = np.sqrt(rmsd_sum/len(inter_peak_time))\n",
    "    \n",
    "    print(peak_time)\n",
    "    data = [[file.split(\".\")[0], find_time(len(sig)), bpm_avg, round(sdnn, 3), round(rmsd,3),round(ipt_mean,3), round(ipt_max,3), round(ipt_min,3), pt_mean]]\n",
    "    current+=1\n",
    "    df1 = pd.DataFrame(data,columns=['File Name','Duration','BPM','SDNN (ms)','RMSD (ms)','Inter Peak Interval Avg (ms)','Inter Peak Time Interval Max(ms)','Inter Peak Time Interval Min(ms)','Peak Time Mean(sec)'])\n",
    "    df = df.append(df1,  ignore_index = True)\n",
    "    del sig\n",
    "#     print(df)\n",
    "#     if current == 5:\n",
    "    break\n",
    "\n",
    "# df.to_csv(\"Stats\", encoding='utf-8', index=False)"
   ]
  },
  {
   "cell_type": "code",
   "execution_count": null,
   "metadata": {},
   "outputs": [],
   "source": [
    "df"
   ]
  },
  {
   "cell_type": "code",
   "execution_count": null,
   "metadata": {},
   "outputs": [],
   "source": [
    "beat_count = 0\n",
    "peaks = []\n",
    "peaks_time = []\n",
    "for k in range(1,10000):\n",
    "    if (sig[k]>sig[k-1] and sig[k]<sig[k+1] and sig[k]>0):\n",
    "        beat_count+=1\n",
    "        peaks.append(sig[k])\n",
    "        peaks_time.append(k)\n",
    "        \n",
    "print(beat_count)"
   ]
  },
  {
   "cell_type": "code",
   "execution_count": null,
   "metadata": {},
   "outputs": [],
   "source": [
    "\n",
    "plt.title(\"Heartrate\")\n",
    "plt.plot(sig[:10000], alpha=0.5, color='blue', label=\"raw signal\")\n",
    "plt.scatter(peaks_time, peaks, color='red')\n",
    "plt.legend(loc=4, framealpha=0.6)\n",
    "plt.show()"
   ]
  },
  {
   "cell_type": "code",
   "execution_count": null,
   "metadata": {},
   "outputs": [],
   "source": [
    "fs = 100\n",
    "# n = len(sig)\n",
    "n= 30000\n",
    "duration_sec = n/fs\n",
    "duration_min = duration_sec/60\n",
    "bpm_avg = beat_count/duration_min\n",
    "print(bpm_avg)"
   ]
  },
  {
   "cell_type": "markdown",
   "metadata": {},
   "source": [
    "# Peak Interval Average"
   ]
  },
  {
   "cell_type": "code",
   "execution_count": null,
   "metadata": {},
   "outputs": [],
   "source": [
    "import numpy as np\n",
    "inter_peak_interval = []\n",
    "for i in range(0, len(peaks)-1):\n",
    "    inter_peak_interval.append(peaks[i+1] - peaks[i])\n",
    "ipi_mean = np.array(inter_peak_interval).mean()\n",
    "print('Peak Interval average: ',ipi_mean)"
   ]
  },
  {
   "cell_type": "markdown",
   "metadata": {},
   "source": [
    "# Average Peak Time"
   ]
  },
  {
   "cell_type": "code",
   "execution_count": null,
   "metadata": {},
   "outputs": [],
   "source": [
    "peak_time = []\n",
    "for i in range(0, len(peaks)):\n",
    "    peak_time.append(peaks[i]/256)\n",
    "\n",
    "pt_mean = np.array(peak_time).mean()\n",
    "print(np.array(peak_time).mean())\n"
   ]
  },
  {
   "cell_type": "markdown",
   "metadata": {},
   "source": [
    "# Average Peak Value"
   ]
  },
  {
   "cell_type": "code",
   "execution_count": null,
   "metadata": {},
   "outputs": [],
   "source": [
    "peak_mean= np.array(peaks).mean()\n",
    "print(np.array(peaks).mean())"
   ]
  },
  {
   "cell_type": "markdown",
   "metadata": {},
   "source": [
    "# MultiFile Script"
   ]
  },
  {
   "cell_type": "code",
   "execution_count": null,
   "metadata": {},
   "outputs": [],
   "source": [
    "import mne\n",
    "import numpy as np\n",
    "import pandas as pd\n",
    "from os import listdir\n",
    "from os.path import isfile, join\n",
    "onlyfiles = [f for f in listdir(\"./dataset\") if isfile(join(\"./dataset\", f))]\n",
    "df = pd.DataFrame([])\n",
    "def find_time(sig):\n",
    "    time = ((sig/256)/60)/60\n",
    "    print(\"Time: \", time , \"\\nLength: \",sig)\n",
    "    return ((sig/256)/60)/60\n",
    "\n",
    "\n",
    "\n",
    "current = 1\n",
    "total = len(onlyfiles)\n",
    "for file in onlyfiles:\n",
    "    file = join(\"./dataset\", file)\n",
    "    print(\"Processing..\", file, current,\"/\",total)\n",
    "    data = mne.io.read_raw_edf(file)\n",
    "    raw_data = data.get_data()\n",
    "    # you can get the metadata included in the file and a list of all channels:\n",
    "    info = data.info\n",
    "    channels = data.ch_names\n",
    "    ecgl = raw_data[27]\n",
    "    ecgr = raw_data[28]\n",
    "    sig = ecgl - ecgr\n",
    "    \n",
    "#     print(\"Signal Loaded..\")\n",
    "    beat_count = 0\n",
    "    peaks = []\n",
    "    peaks_time = []\n",
    "    for k in range(1,len(sig)):\n",
    "        if (sig[k]>sig[k-1] and sig[k]<sig[k+1] and sig[k]>0):\n",
    "            beat_count+=1\n",
    "            peaks.append(sig[k])\n",
    "            peaks_time.append(k)\n",
    "\n",
    "#     print(\"Beat Count:\",beat_count)\n",
    "    \n",
    "    fs = 100\n",
    "    n = len(sig)\n",
    "#     n= 30000\n",
    "    duration_sec = n/fs\n",
    "    duration_min = duration_sec/60\n",
    "    bpm_avg = beat_count/duration_min\n",
    "#     print(bpm_avg)\n",
    "    \n",
    "    inter_peak_interval = []\n",
    "    for i in range(0, len(peaks)-1):\n",
    "        inter_peak_interval.append(peaks[i+1] - peaks[i])\n",
    "    ipi_mean = np.array(inter_peak_interval).mean()\n",
    "    \n",
    "    \n",
    "    peak_time = []\n",
    "    for i in range(0, len(peaks)):\n",
    "        peak_time.append(peaks[i]/256/60)\n",
    "\n",
    "    pt_mean = np.array(peak_time).mean()\n",
    "#     print(np.array(peak_time).mean())\n",
    "    peak_mean= np.array(peaks).mean()\n",
    "    \n",
    "    \n",
    "    data = [[file,len(sig),find_time(len(sig)),beat_count,bpm_avg,ipi_mean,pt_mean, peak_mean]]\n",
    "    current+=1\n",
    "    df1 = pd.DataFrame(data,columns=['File Name','Signal Length','Duration','Beat Count','BPM','Peak Interval Avg','Peak Time Avg','Peak Avg'])\n",
    "    df = df.append(df1,  ignore_index = True)\n",
    "    break\n",
    "# df.to_csv(\"Stats\", encoding='utf-8', index=False)"
   ]
  },
  {
   "cell_type": "code",
   "execution_count": null,
   "metadata": {},
   "outputs": [],
   "source": [
    "df"
   ]
  },
  {
   "cell_type": "code",
   "execution_count": null,
   "metadata": {},
   "outputs": [],
   "source": [
    "import math \n",
    "import mne\n",
    "import numpy as np\n",
    "import pandas as pd\n",
    "from os import listdir\n",
    "from os.path import isfile, join\n",
    "# import heartpy as hp\n",
    "from scipy.signal import butter, freqs, filtfilt\n",
    "import matplotlib.pyplot as plt\n",
    "from scipy.signal import find_peaks\n",
    "\n",
    "def find_time(sig):\n",
    "    time = ((sig/256)/60)/60\n",
    "    print(\"Time: \", time , \"\\nLength: \",sig)\n",
    "    return ((sig/256)/60)\n",
    "\n",
    "\n",
    "def time_data(min):\n",
    "    return 256*60*min\n",
    "def channel_id(channel, val):   \n",
    "    j =0\n",
    "    for i in channel:\n",
    "        if(i == val):\n",
    "            return j\n",
    "        \n",
    "        j+=1\n",
    "        \n",
    "filename = 'dataset/AJUGEORGE.edf'\n",
    "data = mne.io.read_raw_edf(filename)\n",
    "info = data.info\n",
    "channels = data.ch_names\n",
    "raw_data = data.get_data()\n",
    "\n",
    "del data\n",
    "\n",
    "ecgl = raw_data[channel_id(channels,'ECGL')]\n",
    "ecgr = raw_data[channel_id(channels,'ECGR')]\n",
    "del raw_data\n",
    "\n",
    "sig = ecgl[:] -ecgr[:]\n",
    "del ecgl\n",
    "del ecgr\n",
    "\n",
    "fs = 256\n",
    "n = len(sig)\n",
    "# n = 1000\n",
    "fc = 4\n",
    "b, a = butter(6, fc/(fs/2), 'low', analog=False)\n",
    "\n",
    "y = filtfilt(b, a, sig[:])\n",
    "\n",
    "\n",
    "peaks, _ = find_peaks(sig, distance = 150, height=0)\n",
    "peaks_num = (len(peaks))                            \n",
    "plt.plot(sig, 'b-', linewidth = 1)\n",
    "plt.plot(peaks, y[peaks], \"*\", color=\"red\")         \n",
    "# fig1 = plt.gfc()\n",
    "plt.show()   \n",
    "\n",
    "beat_count = len(peaks)\n",
    "fs = 256\n",
    "n = len(sig)\n",
    "duration_sec = n/fs\n",
    "duration_min = duration_sec/60\n",
    "bpm_avg = beat_count/duration_min\n",
    "print(bpm_avg)\n",
    "\n",
    "\n",
    "peak_time = []\n",
    "for i in range(0, len(peaks)):\n",
    "    peak_time.append(peaks[i]/256)\n",
    "pt_mean = np.array(peak_time).mean()\n",
    "\n",
    "inter_peak_time = []\n",
    "rmsd_sum = 0\n",
    "for i in range(0, len(y[peaks])-1):\n",
    "    inter_peak_time.append((peaks[i+1]/256)*1000 - (peaks[i]/256)*1000)\n",
    "    rmsd_sum += pow((peaks[i+1]/256)*1000 - (peaks[i]/256)*1000, 2)\n",
    "\n",
    "ipt_mean = np.array(inter_peak_time).mean()\n",
    "ipt_max = np.array(inter_peak_time).max()\n",
    "ipt_min = np.array(inter_peak_time).min()    \n",
    "\n",
    "sdnn = np.array(inter_peak_time).std()\n",
    "rmsd = np.sqrt(rmsd_sum/(len(inter_peak_time)))\n",
    "\n",
    "data = [[filename.split(\".\")[0], find_time(len(sig)), bpm_avg, round(sdnn), math.log(rmsd,2),round(ipt_mean), round(ipt_max), round(ipt_min), round(pt_mean)]]\n",
    "df1 = pd.DataFrame(data,columns=['File Name','Duration(min)','BPM','SDNN (ms)','RMSD (ms)','Inter Peak Interval Avg (ms)','Inter Peak Time Interval Max(ms)','Inter Peak Time Interval Min(ms)','Peak Time Mean(sec)'])\n",
    "# df = df.append(df1,  ignore_index = True)\n",
    "del sig"
   ]
  },
  {
   "cell_type": "code",
   "execution_count": null,
   "metadata": {},
   "outputs": [],
   "source": [
    "df1"
   ]
  },
  {
   "cell_type": "code",
   "execution_count": null,
   "metadata": {},
   "outputs": [],
   "source": [
    "df1"
   ]
  },
  {
   "cell_type": "code",
   "execution_count": null,
   "metadata": {},
   "outputs": [],
   "source": [
    "df1"
   ]
  },
  {
   "cell_type": "code",
   "execution_count": null,
   "metadata": {},
   "outputs": [],
   "source": [
    "df1"
   ]
  },
  {
   "cell_type": "code",
   "execution_count": null,
   "metadata": {},
   "outputs": [],
   "source": [
    "df1"
   ]
  },
  {
   "cell_type": "code",
   "execution_count": null,
   "metadata": {},
   "outputs": [],
   "source": [
    "df1"
   ]
  },
  {
   "cell_type": "code",
   "execution_count": null,
   "metadata": {},
   "outputs": [],
   "source": [
    "df1"
   ]
  },
  {
   "cell_type": "code",
   "execution_count": null,
   "metadata": {},
   "outputs": [],
   "source": [
    "df1"
   ]
  },
  {
   "cell_type": "code",
   "execution_count": null,
   "metadata": {},
   "outputs": [],
   "source": [
    "df1"
   ]
  },
  {
   "cell_type": "code",
   "execution_count": null,
   "metadata": {},
   "outputs": [],
   "source": [
    "df1"
   ]
  },
  {
   "cell_type": "code",
   "execution_count": null,
   "metadata": {},
   "outputs": [],
   "source": []
  }
 ],
 "metadata": {
  "kernelspec": {
   "display_name": "Python 3",
   "language": "python",
   "name": "python3"
  },
  "language_info": {
   "codemirror_mode": {
    "name": "ipython",
    "version": 3
   },
   "file_extension": ".py",
   "mimetype": "text/x-python",
   "name": "python",
   "nbconvert_exporter": "python",
   "pygments_lexer": "ipython3",
   "version": "3.7.1"
  }
 },
 "nbformat": 4,
 "nbformat_minor": 4
}
