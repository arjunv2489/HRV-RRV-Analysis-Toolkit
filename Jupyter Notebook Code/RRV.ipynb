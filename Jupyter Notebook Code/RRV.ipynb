{
 "cells": [
  {
   "cell_type": "markdown",
   "metadata": {},
   "source": [
    "# Data Analysis for Flow channel"
   ]
  },
  {
   "cell_type": "markdown",
   "metadata": {},
   "source": [
    "### Required python libraries"
   ]
  },
  {
   "cell_type": "code",
   "execution_count": 6,
   "metadata": {},
   "outputs": [],
   "source": [
    "import os\n",
    "import numpy as np\n",
    "import mne\n",
    "import heartpy as hp\n",
    "import matplotlib.pyplot as plt\n",
    "from scipy.signal import butter, freqs, filtfilt, find_peaks\n",
    "from os import listdir\n",
    "from os.path import isfile, join\n",
    "import pandas as pd\n",
    "import statistics"
   ]
  },
  {
   "cell_type": "markdown",
   "metadata": {},
   "source": [
    "### Importing .edf File"
   ]
  },
  {
   "cell_type": "code",
   "execution_count": 7,
   "metadata": {},
   "outputs": [
    {
     "name": "stdout",
     "output_type": "stream",
     "text": [
      "Extracting EDF parameters from F:\\Dataset\\BINEESHBOI~ PS_0c6dd4b6-a130-414d-b54b-b9a8205af46a.edf...\n",
      "EDF file detected\n",
      "Setting channel info structure...\n",
      "Creating raw.info structure...\n"
     ]
    }
   ],
   "source": [
    "file = \"../BINEESHBOI~ PS_0c6dd4b6-a130-414d-b54b-b9a8205af46a.edf\"\n",
    "data = mne.io.read_raw_edf(file)"
   ]
  },
  {
   "cell_type": "markdown",
   "metadata": {},
   "source": [
    "### Extracting data from the file"
   ]
  },
  {
   "cell_type": "code",
   "execution_count": 5,
   "metadata": {},
   "outputs": [
    {
     "ename": "NameError",
     "evalue": "name 'data' is not defined",
     "output_type": "error",
     "traceback": [
      "\u001b[1;31m---------------------------------------------------------------------------\u001b[0m",
      "\u001b[1;31mNameError\u001b[0m                                 Traceback (most recent call last)",
      "\u001b[1;32m<ipython-input-5-f303b03a5ea0>\u001b[0m in \u001b[0;36m<module>\u001b[1;34m()\u001b[0m\n\u001b[1;32m----> 1\u001b[1;33m \u001b[0mraw_data\u001b[0m \u001b[1;33m=\u001b[0m \u001b[0mdata\u001b[0m\u001b[1;33m.\u001b[0m\u001b[0mget_data\u001b[0m\u001b[1;33m(\u001b[0m\u001b[1;33m)\u001b[0m\u001b[1;33m\u001b[0m\u001b[0m\n\u001b[0m\u001b[0;32m      2\u001b[0m \u001b[0minfo\u001b[0m \u001b[1;33m=\u001b[0m \u001b[0mdata\u001b[0m\u001b[1;33m.\u001b[0m\u001b[0minfo\u001b[0m\u001b[1;33m\u001b[0m\u001b[0m\n\u001b[0;32m      3\u001b[0m \u001b[1;32mdel\u001b[0m \u001b[0mdata\u001b[0m\u001b[1;33m\u001b[0m\u001b[0m\n\u001b[0;32m      4\u001b[0m \u001b[1;31m# Un-comment the below code to view the data fields\u001b[0m\u001b[1;33m\u001b[0m\u001b[1;33m\u001b[0m\u001b[0m\n\u001b[0;32m      5\u001b[0m \u001b[1;33m\u001b[0m\u001b[0m\n",
      "\u001b[1;31mNameError\u001b[0m: name 'data' is not defined"
     ]
    }
   ],
   "source": [
    "raw_data = data.get_data()\n",
    "info = data.info\n",
    "del data\n",
    "# Un-comment the below code to view the data fields\n",
    "\n",
    "# print(info)"
   ]
  },
  {
   "cell_type": "code",
   "execution_count": 4,
   "metadata": {},
   "outputs": [
    {
     "ename": "NameError",
     "evalue": "name 'data_channel' is not defined",
     "output_type": "error",
     "traceback": [
      "\u001b[1;31m---------------------------------------------------------------------------\u001b[0m",
      "\u001b[1;31mNameError\u001b[0m                                 Traceback (most recent call last)",
      "\u001b[1;32m<ipython-input-4-c09e8debea32>\u001b[0m in \u001b[0;36m<module>\u001b[1;34m()\u001b[0m\n\u001b[0;32m     13\u001b[0m         \u001b[0mj\u001b[0m\u001b[1;33m+=\u001b[0m\u001b[1;36m1\u001b[0m\u001b[1;33m\u001b[0m\u001b[0m\n\u001b[0;32m     14\u001b[0m \u001b[1;33m\u001b[0m\u001b[0m\n\u001b[1;32m---> 15\u001b[1;33m \u001b[0mflow\u001b[0m \u001b[1;33m=\u001b[0m \u001b[0mraw_data\u001b[0m\u001b[1;33m[\u001b[0m\u001b[0mchannel_id\u001b[0m\u001b[1;33m(\u001b[0m\u001b[0mdata_channel\u001b[0m\u001b[1;33m,\u001b[0m \u001b[1;34m\"FLOW\"\u001b[0m\u001b[1;33m)\u001b[0m\u001b[1;33m]\u001b[0m\u001b[1;33m\u001b[0m\u001b[0m\n\u001b[0m\u001b[0;32m     16\u001b[0m \u001b[0mflow\u001b[0m \u001b[1;33m=\u001b[0m \u001b[0mflow\u001b[0m\u001b[1;33m[\u001b[0m\u001b[1;33m:\u001b[0m\u001b[1;33m]\u001b[0m\u001b[1;33m\u001b[0m\u001b[0m\n",
      "\u001b[1;31mNameError\u001b[0m: name 'data_channel' is not defined"
     ]
    }
   ],
   "source": [
    "# flow = raw_data[33]    # Print the data from Flow channel\n",
    "# print(flow)\n",
    "# Better list containing data\n",
    "# Un-comment the below code for viewing the flow channel data\n",
    "\n",
    "# for i in flow:\n",
    "#     print(i)\n",
    "def channel_id(channel, val):   \n",
    "    j =0\n",
    "    for i in channel:\n",
    "        if(i == val):\n",
    "            return j\n",
    "        j+=1\n",
    "\n",
    "flow = raw_data[channel_id(data_channel, \"FLOW\")]\n",
    "flow = flow[:]\n",
    "\n"
   ]
  },
  {
   "cell_type": "code",
   "execution_count": 14,
   "metadata": {},
   "outputs": [],
   "source": [
    "# CHEST\n",
    "def channel_id(channel, val):   \n",
    "    j =0\n",
    "    for i in channel:\n",
    "        if(i == val):\n",
    "            return j\n",
    "        j+=1\n",
    "\n",
    "flow = raw_data[channel_id(data_channel, \"CHEST\")]\n",
    "flow = flow[:]\n"
   ]
  },
  {
   "cell_type": "code",
   "execution_count": null,
   "metadata": {},
   "outputs": [],
   "source": [
    "# ABD\n",
    "def channel_id(channel, val):   \n",
    "    j =0\n",
    "    for i in channel:\n",
    "        if(i == val):\n",
    "            return j\n",
    "        j+=1\n",
    "\n",
    "flow = raw_data[channel_id(data_channel, \"ABD\")]\n",
    "flow = flow[130000:300000]\n"
   ]
  },
  {
   "cell_type": "code",
   "execution_count": null,
   "metadata": {},
   "outputs": [],
   "source": [
    "# import plotly.graph_objects as go\n",
    "# from plotly.offline import init_notebook_mode\n",
    "# init_notebook_mode(connected=True)\n",
    "#  Butter Worth Filter\n",
    "fs = 256\n",
    "fc = 0.5\n",
    "b, a = butter(6, fc/(fs/2), 'low', analog=False)\n",
    "\n",
    "# Filtering the signal\n",
    "y = filtfilt(b, a, flow)\n",
    "\n",
    "peaks, _ = find_peaks(y, distance = 150, height=0)\n",
    "peaks_num = (len(peaks))                             # Contains the total no. of peaks\n",
    "plt..plot(y, 'b-', linewidth = 1)\n",
    "plt.plot(peaks, y[peaks], \"*\", color=\"red\")          # Plotting the peak points\n",
    "\n",
    "plt.show()\n",
    "\n",
    "\n",
    "n = len(flow)\n",
    "print(n)\n",
    "print(n/120)\n",
    "new_var = len(peaks)\n",
    "\n",
    "\n",
    "# print(n)\n",
    "duration_sec = n / fs\n",
    "duration_min = duration_sec / 60\n",
    "\n",
    "\n",
    "avg = new_var / duration_min\n",
    "\n",
    "print(\"Beats per minute: \", round(avg))\n",
    "print(\"Number of spikes per minute: \", round(peaks_num, 2))\n"
   ]
  },
  {
   "cell_type": "markdown",
   "metadata": {},
   "source": [
    "### Filtering flow signal"
   ]
  },
  {
   "cell_type": "code",
   "execution_count": 17,
   "metadata": {},
   "outputs": [
    {
     "name": "stderr",
     "output_type": "stream",
     "text": [
      "c:\\users\\arjun\\appdata\\local\\programs\\python\\python36\\lib\\site-packages\\scipy\\signal\\_arraytools.py:45: FutureWarning:\n",
      "\n",
      "Using a non-tuple sequence for multidimensional indexing is deprecated; use `arr[tuple(seq)]` instead of `arr[seq]`. In the future this will be interpreted as an array index, `arr[np.array(seq)]`, which will result either in an error or a different result.\n",
      "\n"
     ]
    },
    {
     "data": {
      "image/png": "[encoded data removed]",
      "text/plain": [
       "<Figure size 432x288 with 1 Axes>"
      ]
     },
     "metadata": {},
     "output_type": "display_data"
    },
    {
     "name": "stdout",
     "output_type": "stream",
     "text": [
      "7795200\n",
      "64960.0\n",
      "Beats per minute:  12\n",
      "Number of spikes per minute:  6107\n"
     ]
    }
   ],
   "source": [
    "#  Butter Worth Filter\n",
    "fs = 256\n",
    "fc = 0.5\n",
    "b, a = butter(6, fc/(fs/2), 'low', analog=False)\n",
    "\n",
    "# Filtering the signal\n",
    "y = filtfilt(b, a, flow)\n",
    "\n",
    "peaks, _ = find_peaks(y, distance = 150, height=0)\n",
    "peaks_num = (len(peaks))                             # Contains the total no. of peaks\n",
    "plt.plot(y, 'b-', linewidth = 1)\n",
    "plt.plot(peaks, y[peaks], \"*\", color=\"red\")          # Plotting the peak points\n",
    "# fig1 = plt.gfc()\n",
    "plt.show()                                           # Plotting the flow channel data\n",
    "\n",
    "\n",
    "n = len(flow)\n",
    "print(n)\n",
    "print(n/120)\n",
    "new_var = len(peaks)\n",
    "\n",
    "\n",
    "# print(n)\n",
    "duration_sec = n / fs\n",
    "duration_min = duration_sec / 60\n",
    "\n",
    "\n",
    "avg = new_var / duration_min\n",
    "\n",
    "print(\"Beats per minute: \", round(avg))\n",
    "print(\"Number of spikes per minute: \", round(peaks_num, 2))\n"
   ]
  },
  {
   "cell_type": "markdown",
   "metadata": {},
   "source": [
    "### Peak Interval Time"
   ]
  },
  {
   "cell_type": "code",
   "execution_count": 19,
   "metadata": {},
   "outputs": [
    {
     "name": "stdout",
     "output_type": "stream",
     "text": [
      "Peak interval Average percentage:  117.91391618729709\n"
     ]
    },
    {
     "data": {
      "text/plain": [
       "[<matplotlib.lines.Line2D at 0x13806127d68>]"
      ]
     },
     "execution_count": 19,
     "metadata": {},
     "output_type": "execute_result"
    },
    {
     "data": {
      "image/png": "[encoded data removed]",
      "text/plain": [
       "<Figure size 432x288 with 1 Axes>"
      ]
     },
     "metadata": {},
     "output_type": "display_data"
    }
   ],
   "source": [
    "    inter_peak_interval = []\n",
    "    inter_peak_interval_index = []\n",
    "\n",
    "    for i in range(0, len(y[peaks]) - 1):\n",
    "#         inter_peak_interval.append(((y[peaks][i + 1] - y[peaks][i])))\n",
    "        inter_peak_interval.append(((y[peaks][i + 1] - y[peaks][i])/y[peaks][i]) * 100)\n",
    "\n",
    "        inter_peak_interval_index.append(i)\n",
    "\n",
    "    ipi_mean = np.array(inter_peak_interval).mean()\n",
    "    print('Peak interval Average percentage: ', ipi_mean)\n",
    "\n",
    "\n",
    "    plt.plot(inter_peak_interval_index, inter_peak_interval)"
   ]
  },
  {
   "cell_type": "markdown",
   "metadata": {},
   "source": [
    "### Average Peak Value"
   ]
  },
  {
   "cell_type": "code",
   "execution_count": null,
   "metadata": {},
   "outputs": [],
   "source": [
    "peak_mean= np.array(y[peaks]).mean()\n",
    "print(np.array(y[peaks]).mean())\n",
    "\n",
    "print(file.split('.')[0])"
   ]
  },
  {
   "cell_type": "markdown",
   "metadata": {},
   "source": [
    "### Save as CSV"
   ]
  },
  {
   "cell_type": "code",
   "execution_count": null,
   "metadata": {},
   "outputs": [],
   "source": [
    "# np.savetxt('data.csv', (peaks_num, flow_mean))\n",
    "\n",
    "\n",
    "df = pd.DataFrame([])\n",
    "data = [[file,len(flow),dur,round(peaks_num),bpm_avg,ipt_mean,avg_peak]]\n",
    "\n",
    "df1 = pd.DataFrame(data,columns=['File Name','Signal Length','Duration','Beat Count','BPM','Peak Interval Avg','Peak Time Avg'])\n",
    "df = df.append(df1,  ignore_index = True)\n",
    "print(df)\n",
    "df.to_csv(\"Stats_temp.csv\", encoding='utf-8', index=False)"
   ]
  },
  {
   "cell_type": "code",
   "execution_count": null,
   "metadata": {},
   "outputs": [],
   "source": []
  }
 ],
 "metadata": {
  "kernelspec": {
   "display_name": "Python 3",
   "language": "python",
   "name": "python3"
  },
  "language_info": {
   "codemirror_mode": {
    "name": "ipython",
    "version": 3
   },
   "file_extension": ".py",
   "mimetype": "text/x-python",
   "name": "python",
   "nbconvert_exporter": "python",
   "pygments_lexer": "ipython3",
   "version": "3.6.5"
  }
 },
 "nbformat": 4,
 "nbformat_minor": 4
}
