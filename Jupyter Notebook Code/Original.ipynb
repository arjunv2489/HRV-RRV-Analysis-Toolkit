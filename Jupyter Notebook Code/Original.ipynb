{
 "cells": [
  {
   "cell_type": "code",
   "execution_count": 10,
   "metadata": {},
   "outputs": [
    {
     "name": "stdout",
     "output_type": "stream",
     "text": [
      "Extracting EDF parameters from C:\\Users\\abhil\\Desktop\\Parthasarathy paper\\dataset\\Balakrishna.edf...\n",
      "EDF file detected\n",
      "Setting channel info structure...\n",
      "Creating raw.info structure...\n"
     ]
    }
   ],
   "source": [
    "import mne\n",
    "import matplotlib.pyplot as plt\n",
    "file = \"dataset/Balakrishna.edf\"\n",
    "data = mne.io.read_raw_edf(file)\n",
    "raw_data = data.get_data()\n",
    "# you can get the metadata included in the file and a list of all channels:\n",
    "info = data.info\n",
    "channels = data.ch_names"
   ]
  },
  {
   "cell_type": "code",
   "execution_count": 11,
   "metadata": {},
   "outputs": [],
   "source": [
    "ecgl = raw_data[27]\n",
    "ecgr = raw_data[28]\n",
    "sig = ecgl - ecgr\n"
   ]
  },
  {
   "cell_type": "code",
   "execution_count": 12,
   "metadata": {},
   "outputs": [
    {
     "name": "stderr",
     "output_type": "stream",
     "text": [
      "C:\\ProgramData\\Anaconda3\\lib\\site-packages\\scipy\\signal\\_arraytools.py:45: FutureWarning: Using a non-tuple sequence for multidimensional indexing is deprecated; use `arr[tuple(seq)]` instead of `arr[seq]`. In the future this will be interpreted as an array index, `arr[np.array(seq)]`, which will result either in an error or a different result.\n",
      "  b = a[a_slice]\n"
     ]
    },
    {
     "data": {
      "image/png": "[encoded data removed]",
      "text/plain": [
       "<Figure size 432x288 with 1 Axes>"
      ]
     },
     "metadata": {},
     "output_type": "display_data"
    }
   ],
   "source": [
    "# import heartpy as hp\n",
    "import numpy as np\n",
    "from scipy.signal import butter, freqs, filtfilt\n",
    "import matplotlib.pyplot as plt\n",
    "from scipy.signal import find_peaks\n",
    "\n",
    "fs = 256\n",
    "n = len(sig)\n",
    "# n = 1000\n",
    "fc = 4\n",
    "duration_sec = n / fs\n",
    "duration_min = duration_sec / 60\n",
    "\n",
    "b, a = butter(6, fc/(fs/2), 'low', analog=False)\n",
    "# w, h = freqs(b, a)\n",
    "\n",
    "y = filtfilt(b, a, sig[:])\n",
    "\n",
    "peaks, _ = find_peaks(y, distance = 150, height=0)\n",
    "plt.plot(y, 'b-', linewidth=1)\n",
    "\n",
    "plt.plot(peaks, y[peaks], \"*\", color=\"red\")\n",
    "plt.show()"
   ]
  },
  {
   "cell_type": "code",
   "execution_count": 16,
   "metadata": {},
   "outputs": [
    {
     "data": {
      "text/plain": [
       "8009"
      ]
     },
     "execution_count": 16,
     "metadata": {},
     "output_type": "execute_result"
    }
   ],
   "source": [
    "len(peaks)"
   ]
  },
  {
   "cell_type": "markdown",
   "metadata": {},
   "source": [
    "# BPM Average"
   ]
  },
  {
   "cell_type": "code",
   "execution_count": 15,
   "metadata": {},
   "outputs": [
    {
     "name": "stdout",
     "output_type": "stream",
     "text": [
      "65.93578485181119\n",
      "2.0244444444444443\n"
     ]
    }
   ],
   "source": [
    "# print(len(peaks))\n",
    "beat_count = len(peaks)\n",
    "fs = 256\n",
    "n = len(sig)\n",
    "duration_sec = n/fs\n",
    "duration_min = duration_sec/60\n",
    "bpm_avg = beat_count/duration_min\n",
    "print(bpm_avg)\n",
    "print(duration_min/60)"
   ]
  },
  {
   "cell_type": "code",
   "execution_count": 14,
   "metadata": {},
   "outputs": [
    {
     "data": {
      "text/plain": [
       "121.46666666666667"
      ]
     },
     "execution_count": 14,
     "metadata": {},
     "output_type": "execute_result"
    }
   ],
   "source": [
    "duration_min"
   ]
  },
  {
   "cell_type": "markdown",
   "metadata": {},
   "source": [
    "# Peak Interval Average"
   ]
  },
  {
   "cell_type": "code",
   "execution_count": 53,
   "metadata": {},
   "outputs": [
    {
     "name": "stdout",
     "output_type": "stream",
     "text": [
      "Peak Interval average:  -8.548247427720376e-08\n"
     ]
    },
    {
     "data": {
      "image/png": "[encoded data removed]",
      "text/plain": [
       "<Figure size 432x288 with 1 Axes>"
      ]
     },
     "metadata": {},
     "output_type": "display_data"
    }
   ],
   "source": [
    "inter_peak_interval = []\n",
    "inter_peak_interval_index = []\n",
    "\n",
    "for i in range(0, len(y[peaks])-1):\n",
    "        inter_peak_interval.append(y[peaks][i+1] - y[peaks][i])\n",
    "        inter_peak_interval_index.append(i)\n",
    "    \n",
    "ipi_mean = np.array(inter_peak_interval).mean()\n",
    "# plt.plot(y, 'b-', linewidth=1)\n",
    "plt.plot(inter_peak_interval_index, inter_peak_interval)\n",
    "\n",
    "# print(peaks)\n",
    "print('Peak Interval average: ',ipi_mean)"
   ]
  },
  {
   "cell_type": "code",
   "execution_count": 42,
   "metadata": {},
   "outputs": [
    {
     "name": "stdout",
     "output_type": "stream",
     "text": [
      "Peak Interval average:  3.8828629703629702\n",
      "Peak Interval Max:  121.46399739583333\n",
      "Peak Interval Min:  0.0031901041666666666\n"
     ]
    }
   ],
   "source": [
    "inter_peak_time = []\n",
    "for i in range(0, len(y[peaks])-1):\n",
    "    inter_peak_time.append(((peaks[i+1] - peaks[i]))/60)\n",
    "    \n",
    "ipt_mean = np.array(inter_peak_time).mean()\n",
    "ipt_max = np.array(peak_time).max()\n",
    "ipt_min = np.array(peak_time).min()\n",
    "# print(inter_peak_time)\n",
    "\n",
    "# print(peaks)\n",
    "print('Peak Interval average: ',ipt_mean)\n",
    "print('Peak Interval Max: ',ipt_max)\n",
    "print('Peak Interval Min: ',ipt_min)"
   ]
  },
  {
   "cell_type": "markdown",
   "metadata": {},
   "source": [
    "# Average Peak Time"
   ]
  },
  {
   "cell_type": "code",
   "execution_count": 41,
   "metadata": {},
   "outputs": [
    {
     "name": "stdout",
     "output_type": "stream",
     "text": [
      "60.25943595031111\n"
     ]
    }
   ],
   "source": [
    "peak_time = []\n",
    "for i in range(0, len(peaks)):\n",
    "    peak_time.append((peaks[i]/256)/60)\n",
    "    \n",
    "\n",
    "pt_mean = np.array(peak_time).mean()\n",
    "print( pt_mean)"
   ]
  },
  {
   "cell_type": "markdown",
   "metadata": {},
   "source": [
    "# Max Min b/w section"
   ]
  },
  {
   "cell_type": "code",
   "execution_count": 113,
   "metadata": {},
   "outputs": [
    {
     "name": "stdout",
     "output_type": "stream",
     "text": [
      "Max 0.0001988586887155518\n",
      "Min 0.00013491009071390361\n",
      "0\n",
      "8009\n",
      "0.0001988586887155518\n",
      "0.0001988586887155518\n"
     ]
    },
    {
     "data": {
      "text/plain": [
       "[<matplotlib.lines.Line2D at 0x23302cdde10>]"
      ]
     },
     "execution_count": 113,
     "metadata": {},
     "output_type": "execute_result"
    },
    {
     "data": {
      "image/png": "[encoded data removed]",
      "text/plain": [
       "<Figure size 432x288 with 1 Axes>"
      ]
     },
     "metadata": {},
     "output_type": "display_data"
    }
   ],
   "source": [
    "index = []\n",
    "for i in range(len(peaks)):\n",
    "    if peaks[i]>= 10000 and peaks[i]<=30000:\n",
    "        index.append(i)\n",
    "# print(index)\n",
    "\n",
    "peak_copy = y[peaks].copy()\n",
    "\n",
    "begin = index[0]\n",
    "end = index[-1]\n",
    "\n",
    "print('Max',y[peaks][begin:end+1].max())\n",
    "print('Min',y[peaks][begin:end+1].min())\n",
    "\n",
    "max = y[peaks][begin:end+1].max()\n",
    "min = y[peaks][begin:end+1].min()\n",
    "outliers = []\n",
    "outliers_index = []\n",
    "for i in range(len(y[peaks])):\n",
    "#     print(i)\n",
    "    if y[peaks][i] > max :\n",
    "        outliers.append(y[peaks])\n",
    "        outliers_index.append(i)\n",
    "        peak_copy[i] = max\n",
    "        \n",
    "        \n",
    "print(len(outliers))\n",
    "# print(outliers)\n",
    "print(len(peaks))\n",
    "print(peak_copy.max())\n",
    "\n",
    "y[peaks] = peak_copy\n",
    "print(y[peaks].max())\n",
    "plt.plot(y, 'b-', linewidth=1)\n",
    "\n",
    "plt.plot(peaks, peak_copy, \"*\", color=\"red\")"
   ]
  },
  {
   "cell_type": "markdown",
   "metadata": {},
   "source": [
    "# Average Peak Value"
   ]
  },
  {
   "cell_type": "code",
   "execution_count": 115,
   "metadata": {},
   "outputs": [
    {
     "name": "stdout",
     "output_type": "stream",
     "text": [
      "0.00011798136898355166\n"
     ]
    }
   ],
   "source": [
    "peak_mean= np.array(y[peaks]).mean()\n",
    "print(np.array(y[peaks]).mean())"
   ]
  },
  {
   "cell_type": "markdown",
   "metadata": {},
   "source": [
    "# MULTIFILE"
   ]
  },
  {
   "cell_type": "code",
   "execution_count": 68,
   "metadata": {},
   "outputs": [
    {
     "name": "stdout",
     "output_type": "stream",
     "text": [
      "Processing.. ./dataset\\AJUGEORGE.edf 1 / 25\n",
      "Extracting EDF parameters from C:\\Users\\abhil\\Desktop\\Parthasarathy paper\\dataset\\AJUGEORGE.edf...\n",
      "EDF file detected\n",
      "Setting channel info structure...\n",
      "Creating raw.info structure...\n"
     ]
    },
    {
     "name": "stderr",
     "output_type": "stream",
     "text": [
      "C:\\ProgramData\\Anaconda3\\lib\\site-packages\\scipy\\signal\\_arraytools.py:45: FutureWarning: Using a non-tuple sequence for multidimensional indexing is deprecated; use `arr[tuple(seq)]` instead of `arr[seq]`. In the future this will be interpreted as an array index, `arr[np.array(seq)]`, which will result either in an error or a different result.\n",
      "  b = a[a_slice]\n"
     ]
    },
    {
     "data": {
      "image/png": "[encoded data removed]",
      "text/plain": [
       "<Figure size 432x288 with 1 Axes>"
      ]
     },
     "metadata": {},
     "output_type": "display_data"
    },
    {
     "name": "stdout",
     "output_type": "stream",
     "text": [
      "76.0\n",
      "[0.578125, 1.2734375, 1.97265625, 2.66796875, 3.37890625, 4.078125, 4.77734375, 5.484375, 6.1953125, 6.87890625, 7.5703125, 8.28515625, 8.98046875, 9.6875, 10.40234375, 11.12890625, 11.875, 12.62109375, 13.375, 14.109375, 14.875, 15.625, 16.36328125, 18.1875, 18.9765625, 19.66015625, 20.65234375, 21.34765625, 22.0390625, 22.7421875, 23.37890625, 24.140625, 25.55078125, 26.30078125, 27.015625, 28.1171875, 29.19140625, 30.33984375, 31.3671875, 32.0625, 32.76171875, 33.4609375, 34.16796875, 34.88671875, 35.58984375, 36.3046875, 37.0234375, 38.140625, 39.18359375, 39.8984375, 40.67578125, 41.4609375, 42.21875, 42.9609375, 43.7265625, 44.4375, 45.1875, 45.90234375, 46.62890625, 47.32421875, 48.03125, 48.74609375, 49.4765625, 50.62109375, 51.6640625, 52.37890625, 53.06640625, 53.77734375, 54.48828125, 55.19921875, 55.89453125, 56.578125, 57.27734375, 57.94921875, 58.6484375, 59.34375]\n",
      "Time:  0.016666666666666666 \n",
      "Length:  15360\n"
     ]
    }
   ],
   "source": [
    "import mne\n",
    "import numpy as np\n",
    "import pandas as pd\n",
    "from os import listdir\n",
    "from os.path import isfile, join\n",
    "# import heartpy as hp\n",
    "from scipy.signal import butter, freqs, filtfilt\n",
    "import matplotlib.pyplot as plt\n",
    "from scipy.signal import find_peaks\n",
    "\n",
    "onlyfiles = [f for f in listdir(\"./dataset\") if isfile(join(\"./dataset\", f))]\n",
    "df = pd.DataFrame([])\n",
    "def find_time(sig):\n",
    "    time = ((sig/256)/60)/60\n",
    "    print(\"Time: \", time , \"\\nLength: \",sig)\n",
    "    return ((sig/256)/60)/60\n",
    "\n",
    "\n",
    "def channel_id(channel, val):   \n",
    "    j =0\n",
    "    for i in channel:\n",
    "        if(i == val):\n",
    "            return j\n",
    "        \n",
    "        j+=1\n",
    "        \n",
    "current = 1\n",
    "total = len(onlyfiles)\n",
    "for file in onlyfiles:\n",
    "    filename = file\n",
    "    file = join(\"./dataset\", file)\n",
    "    print(\"Processing..\", file, current,\"/\",total)\n",
    "    data = mne.io.read_raw_edf(file)\n",
    "    info = data.info\n",
    "    channels = data.ch_names\n",
    "    raw_data = data.get_data()\n",
    "    \n",
    "    del data\n",
    "    \n",
    "    # you can get the metadata included in the file and a list of all channels:\n",
    "    \n",
    "    ecgl = raw_data[channel_id(channels,'ECGL')]\n",
    "    ecgr = raw_data[channel_id(channels,'ECGR')]\n",
    "    del raw_data\n",
    "    \n",
    "    sig = ecgl[:15360] -ecgr[:15360]\n",
    "    del ecgl\n",
    "    del ecgr\n",
    "#   print(\"Signal Loaded..\")\n",
    "\n",
    "#     fs = 256\n",
    "#     n = len(sig)\n",
    "#     # n = 1000\n",
    "#     fc = 4\n",
    "#     duration_sec = n / fs\n",
    "#     duration_min = duration_sec / 60\n",
    "\n",
    "#     b, a = butter(6, fc/(fs/2), 'low', analog=False)\n",
    "#     # w, h = freqs(b, a)\n",
    "\n",
    "#     y = filtfilt(b, a, sig[:600])\n",
    "\n",
    "    b, a = butter(6, fc/(fs/2), 'low', analog=False)\n",
    "\n",
    "    # Filtering the signal\n",
    "    y = filtfilt(b, a, sig[:])\n",
    "\n",
    "#     peaks, _ = find_peaks(sig, distance = 150, height=0)\n",
    "#     peaks_num = (len(peaks))                             # Contains the total no. of peaks\n",
    "#     plt.plot(sig, 'b-', linewidth = 1)\n",
    "#     plt.plot(peaks, y[peaks], \"*\", color=\"red\")          # Plotting the peak points\n",
    "#     # fig1 = plt.gfc()\n",
    "#     plt.show()   \n",
    "    peaks, _ = find_peaks(y, distance = 150, height=0)\n",
    "    peaks_num = (len(peaks))                             # Contains the total no. of peaks\n",
    "    plt.plot(sig, 'b-', linewidth = 1)\n",
    "    plt.plot(peaks, y[peaks], \"*\", color=\"red\")          # Plotting the peak points\n",
    "    # fig1 = plt.gfc()\n",
    "    plt.show()   \n",
    "    \n",
    "#     fig1.savefig(file.split(\".\")[0]+\".png\", dpi= 100)\n",
    "    beat_count = len(peaks)\n",
    "    fs = 256\n",
    "    n = len(sig)\n",
    "    duration_sec = n/fs\n",
    "    duration_min = duration_sec/60\n",
    "    bpm_avg = beat_count/duration_min\n",
    "    print(bpm_avg)\n",
    "    \n",
    "    \n",
    "    peak_time = []\n",
    "    for i in range(0, len(peaks)):\n",
    "        peak_time.append(peaks[i]/256)\n",
    "    pt_mean = np.array(peak_time).mean()\n",
    "    \n",
    "    inter_peak_time = []\n",
    "    rmsd_sum = 0\n",
    "    for i in range(0, len(y[peaks])-1):\n",
    "        inter_peak_time.append((peaks[i+1]/256)*1000 - (peaks[i]/256)*1000)\n",
    "        rmsd_sum += pow((peaks[i+1]/256)*1000 - (peaks[i]/256)*1000, 2)\n",
    "        \n",
    "\n",
    "\n",
    "    ipt_mean = np.array(inter_peak_time).mean()\n",
    "    ipt_max = np.array(inter_peak_time).max()\n",
    "    ipt_min = np.array(inter_peak_time).min()    \n",
    "    \n",
    "    sdnn = np.array(inter_peak_time).std()\n",
    "    rmsd = np.sqrt(rmsd_sum/len(inter_peak_time))\n",
    "    \n",
    "    print(peak_time)\n",
    "    data = [[file.split(\".\")[0], find_time(len(sig)), bpm_avg, round(sdnn, 3), round(rmsd,3),round(ipt_mean,3), round(ipt_max,3), round(ipt_min,3), pt_mean]]\n",
    "    current+=1\n",
    "    df1 = pd.DataFrame(data,columns=['File Name','Duration','BPM','SDNN (ms)','RMSD (ms)','Inter Peak Interval Avg (ms)','Inter Peak Time Interval Max(ms)','Inter Peak Time Interval Min(ms)','Peak Time Mean(sec)'])\n",
    "    df = df.append(df1,  ignore_index = True)\n",
    "    del sig\n",
    "#     print(df)\n",
    "#     if current == 5:\n",
    "    break\n",
    "\n",
    "# df.to_csv(\"Stats\", encoding='utf-8', index=False)"
   ]
  },
  {
   "cell_type": "code",
   "execution_count": 67,
   "metadata": {},
   "outputs": [
    {
     "data": {
      "text/html": [
       "<div>\n",
       "<style scoped>\n",
       "    .dataframe tbody tr th:only-of-type {\n",
       "        vertical-align: middle;\n",
       "    }\n",
       "\n",
       "    .dataframe tbody tr th {\n",
       "        vertical-align: top;\n",
       "    }\n",
       "\n",
       "    .dataframe thead th {\n",
       "        text-align: right;\n",
       "    }\n",
       "</style>\n",
       "<table border=\"1\" class=\"dataframe\">\n",
       "  <thead>\n",
       "    <tr style=\"text-align: right;\">\n",
       "      <th></th>\n",
       "      <th>File Name</th>\n",
       "      <th>Duration</th>\n",
       "      <th>BPM</th>\n",
       "      <th>SDNN (ms)</th>\n",
       "      <th>RMSD (ms)</th>\n",
       "      <th>Inter Peak Interval Avg (ms)</th>\n",
       "      <th>Inter Peak Time Interval Max(ms)</th>\n",
       "      <th>Inter Peak Time Interval Min(ms)</th>\n",
       "      <th>Peak Time Mean(sec)</th>\n",
       "    </tr>\n",
       "  </thead>\n",
       "  <tbody>\n",
       "    <tr>\n",
       "      <th>0</th>\n",
       "      <td></td>\n",
       "      <td>0.00434</td>\n",
       "      <td>80.64</td>\n",
       "      <td>22.508</td>\n",
       "      <td>715.198</td>\n",
       "      <td>714.844</td>\n",
       "      <td>765.625</td>\n",
       "      <td>683.594</td>\n",
       "      <td>7.628348</td>\n",
       "    </tr>\n",
       "  </tbody>\n",
       "</table>\n",
       "</div>"
      ],
      "text/plain": [
       "  File Name  Duration    BPM  SDNN (ms)  RMSD (ms)  \\\n",
       "0             0.00434  80.64     22.508    715.198   \n",
       "\n",
       "   Inter Peak Interval Avg (ms)  Inter Peak Time Interval Max(ms)  \\\n",
       "0                       714.844                           765.625   \n",
       "\n",
       "   Inter Peak Time Interval Min(ms)  Peak Time Mean(sec)  \n",
       "0                           683.594             7.628348  "
      ]
     },
     "execution_count": 67,
     "metadata": {},
     "output_type": "execute_result"
    }
   ],
   "source": [
    "df"
   ]
  },
  {
   "cell_type": "code",
   "execution_count": 8,
   "metadata": {},
   "outputs": [
    {
     "name": "stdout",
     "output_type": "stream",
     "text": [
      "2455\n"
     ]
    }
   ],
   "source": [
    "beat_count = 0\n",
    "peaks = []\n",
    "peaks_time = []\n",
    "for k in range(1,10000):\n",
    "    if (sig[k]>sig[k-1] and sig[k]<sig[k+1] and sig[k]>0):\n",
    "        beat_count+=1\n",
    "        peaks.append(sig[k])\n",
    "        peaks_time.append(k)\n",
    "        \n",
    "print(beat_count)"
   ]
  },
  {
   "cell_type": "code",
   "execution_count": 9,
   "metadata": {},
   "outputs": [
    {
     "data": {
      "image/png": "[encoded data removed]",
      "text/plain": [
       "<Figure size 432x288 with 1 Axes>"
      ]
     },
     "metadata": {},
     "output_type": "display_data"
    }
   ],
   "source": [
    "\n",
    "plt.title(\"Heartrate\")\n",
    "plt.plot(sig[:10000], alpha=0.5, color='blue', label=\"raw signal\")\n",
    "plt.scatter(peaks_time, peaks, color='red')\n",
    "plt.legend(loc=4, framealpha=0.6)\n",
    "plt.show()"
   ]
  },
  {
   "cell_type": "code",
   "execution_count": 55,
   "metadata": {},
   "outputs": [
    {
     "name": "stdout",
     "output_type": "stream",
     "text": [
      "412.8\n"
     ]
    }
   ],
   "source": [
    "fs = 100\n",
    "# n = len(sig)\n",
    "n= 30000\n",
    "duration_sec = n/fs\n",
    "duration_min = duration_sec/60\n",
    "bpm_avg = beat_count/duration_min\n",
    "print(bpm_avg)"
   ]
  },
  {
   "cell_type": "markdown",
   "metadata": {},
   "source": [
    "# Peak Interval Average"
   ]
  },
  {
   "cell_type": "code",
   "execution_count": 16,
   "metadata": {},
   "outputs": [
    {
     "name": "stdout",
     "output_type": "stream",
     "text": [
      "Peak Interval average:  1.3259918428952366e-07\n"
     ]
    }
   ],
   "source": [
    "import numpy as np\n",
    "inter_peak_interval = []\n",
    "for i in range(0, len(peaks)-1):\n",
    "    inter_peak_interval.append(peaks[i+1] - peaks[i])\n",
    "ipi_mean = np.array(inter_peak_interval).mean()\n",
    "print('Peak Interval average: ',ipi_mean)"
   ]
  },
  {
   "cell_type": "markdown",
   "metadata": {},
   "source": [
    "# Average Peak Time"
   ]
  },
  {
   "cell_type": "code",
   "execution_count": 17,
   "metadata": {},
   "outputs": [
    {
     "name": "stdout",
     "output_type": "stream",
     "text": [
      "3.6038119125433666e-07\n"
     ]
    }
   ],
   "source": [
    "peak_time = []\n",
    "for i in range(0, len(peaks)):\n",
    "    peak_time.append(peaks[i]/256)\n",
    "\n",
    "pt_mean = np.array(peak_time).mean()\n",
    "print(np.array(peak_time).mean())\n"
   ]
  },
  {
   "cell_type": "markdown",
   "metadata": {},
   "source": [
    "# Average Peak Value"
   ]
  },
  {
   "cell_type": "code",
   "execution_count": 26,
   "metadata": {},
   "outputs": [
    {
     "name": "stdout",
     "output_type": "stream",
     "text": [
      "9.225758496111018e-05\n"
     ]
    }
   ],
   "source": [
    "peak_mean= np.array(peaks).mean()\n",
    "print(np.array(peaks).mean())"
   ]
  },
  {
   "cell_type": "markdown",
   "metadata": {},
   "source": [
    "# MultiFile Script"
   ]
  },
  {
   "cell_type": "code",
   "execution_count": 7,
   "metadata": {},
   "outputs": [
    {
     "name": "stdout",
     "output_type": "stream",
     "text": [
      "Processing.. ./dataset\\AJUGEORGE.edf 1 / 25\n",
      "Extracting EDF parameters from C:\\Users\\abhil\\Desktop\\Parthasarathy paper\\dataset\\AJUGEORGE.edf...\n",
      "EDF file detected\n",
      "Setting channel info structure...\n",
      "Creating raw.info structure...\n",
      "Time:  2.703333333333333 \n",
      "Length:  2491392\n"
     ]
    }
   ],
   "source": [
    "import mne\n",
    "import numpy as np\n",
    "import pandas as pd\n",
    "from os import listdir\n",
    "from os.path import isfile, join\n",
    "onlyfiles = [f for f in listdir(\"./dataset\") if isfile(join(\"./dataset\", f))]\n",
    "df = pd.DataFrame([])\n",
    "def find_time(sig):\n",
    "    time = ((sig/256)/60)/60\n",
    "    print(\"Time: \", time , \"\\nLength: \",sig)\n",
    "    return ((sig/256)/60)/60\n",
    "\n",
    "\n",
    "\n",
    "current = 1\n",
    "total = len(onlyfiles)\n",
    "for file in onlyfiles:\n",
    "    file = join(\"./dataset\", file)\n",
    "    print(\"Processing..\", file, current,\"/\",total)\n",
    "    data = mne.io.read_raw_edf(file)\n",
    "    raw_data = data.get_data()\n",
    "    # you can get the metadata included in the file and a list of all channels:\n",
    "    info = data.info\n",
    "    channels = data.ch_names\n",
    "    ecgl = raw_data[27]\n",
    "    ecgr = raw_data[28]\n",
    "    sig = ecgl - ecgr\n",
    "    \n",
    "#     print(\"Signal Loaded..\")\n",
    "    beat_count = 0\n",
    "    peaks = []\n",
    "    peaks_time = []\n",
    "    for k in range(1,len(sig)):\n",
    "        if (sig[k]>sig[k-1] and sig[k]<sig[k+1] and sig[k]>0):\n",
    "            beat_count+=1\n",
    "            peaks.append(sig[k])\n",
    "            peaks_time.append(k)\n",
    "\n",
    "#     print(\"Beat Count:\",beat_count)\n",
    "    \n",
    "    fs = 100\n",
    "    n = len(sig)\n",
    "#     n= 30000\n",
    "    duration_sec = n/fs\n",
    "    duration_min = duration_sec/60\n",
    "    bpm_avg = beat_count/duration_min\n",
    "#     print(bpm_avg)\n",
    "    \n",
    "    inter_peak_interval = []\n",
    "    for i in range(0, len(peaks)-1):\n",
    "        inter_peak_interval.append(peaks[i+1] - peaks[i])\n",
    "    ipi_mean = np.array(inter_peak_interval).mean()\n",
    "    \n",
    "    \n",
    "    peak_time = []\n",
    "    for i in range(0, len(peaks)):\n",
    "        peak_time.append(peaks[i]/256/60)\n",
    "\n",
    "    pt_mean = np.array(peak_time).mean()\n",
    "#     print(np.array(peak_time).mean())\n",
    "    peak_mean= np.array(peaks).mean()\n",
    "    \n",
    "    \n",
    "    data = [[file,len(sig),find_time(len(sig)),beat_count,bpm_avg,ipi_mean,pt_mean, peak_mean]]\n",
    "    current+=1\n",
    "    df1 = pd.DataFrame(data,columns=['File Name','Signal Length','Duration','Beat Count','BPM','Peak Interval Avg','Peak Time Avg','Peak Avg'])\n",
    "    df = df.append(df1,  ignore_index = True)\n",
    "    break\n",
    "# df.to_csv(\"Stats\", encoding='utf-8', index=False)"
   ]
  },
  {
   "cell_type": "code",
   "execution_count": 6,
   "metadata": {},
   "outputs": [
    {
     "data": {
      "text/html": [
       "<div>\n",
       "<style scoped>\n",
       "    .dataframe tbody tr th:only-of-type {\n",
       "        vertical-align: middle;\n",
       "    }\n",
       "\n",
       "    .dataframe tbody tr th {\n",
       "        vertical-align: top;\n",
       "    }\n",
       "\n",
       "    .dataframe thead th {\n",
       "        text-align: right;\n",
       "    }\n",
       "</style>\n",
       "<table border=\"1\" class=\"dataframe\">\n",
       "  <thead>\n",
       "    <tr style=\"text-align: right;\">\n",
       "      <th></th>\n",
       "      <th>File Name</th>\n",
       "      <th>Signal Length</th>\n",
       "      <th>Duration</th>\n",
       "      <th>Beat Count</th>\n",
       "      <th>BPM</th>\n",
       "      <th>Peak Interval Avg</th>\n",
       "      <th>Peak Time Avg</th>\n",
       "      <th>Peak Avg</th>\n",
       "    </tr>\n",
       "  </thead>\n",
       "  <tbody>\n",
       "    <tr>\n",
       "      <th>0</th>\n",
       "      <td>./dataset\\AJUGEORGE.edf</td>\n",
       "      <td>2491392</td>\n",
       "      <td>2.703333</td>\n",
       "      <td>439198</td>\n",
       "      <td>1057.717132</td>\n",
       "      <td>2.277111e-09</td>\n",
       "      <td>1.739289e-08</td>\n",
       "      <td>0.000267</td>\n",
       "    </tr>\n",
       "  </tbody>\n",
       "</table>\n",
       "</div>"
      ],
      "text/plain": [
       "                 File Name  Signal Length  Duration  Beat Count          BPM  \\\n",
       "0  ./dataset\\AJUGEORGE.edf        2491392  2.703333      439198  1057.717132   \n",
       "\n",
       "   Peak Interval Avg  Peak Time Avg  Peak Avg  \n",
       "0       2.277111e-09   1.739289e-08  0.000267  "
      ]
     },
     "execution_count": 6,
     "metadata": {},
     "output_type": "execute_result"
    }
   ],
   "source": [
    "df"
   ]
  },
  {
   "cell_type": "code",
   "execution_count": 3,
   "metadata": {},
   "outputs": [
    {
     "name": "stderr",
     "output_type": "stream",
     "text": [
      "C:\\ProgramData\\Anaconda3\\lib\\site-packages\\numba\\decorators.py:146: RuntimeWarning: Caching is not available when the 'parallel' target is in use. Caching is now being disabled to allow execution to continue.\n",
      "  warnings.warn(msg, RuntimeWarning)\n"
     ]
    },
    {
     "name": "stdout",
     "output_type": "stream",
     "text": [
      "Extracting EDF parameters from C:\\Users\\abhil\\Desktop\\Parthasarathy paper\\dataset\\AJUGEORGE.edf...\n",
      "EDF file detected\n",
      "Setting channel info structure...\n",
      "Creating raw.info structure...\n"
     ]
    },
    {
     "name": "stderr",
     "output_type": "stream",
     "text": [
      "C:\\ProgramData\\Anaconda3\\lib\\site-packages\\scipy\\signal\\_arraytools.py:45: FutureWarning: Using a non-tuple sequence for multidimensional indexing is deprecated; use `arr[tuple(seq)]` instead of `arr[seq]`. In the future this will be interpreted as an array index, `arr[np.array(seq)]`, which will result either in an error or a different result.\n",
      "  b = a[a_slice]\n"
     ]
    },
    {
     "data": {
      "text/plain": [
       "<Figure size 640x480 with 1 Axes>"
      ]
     },
     "metadata": {},
     "output_type": "display_data"
    },
    {
     "name": "stdout",
     "output_type": "stream",
     "text": [
      "75.34525277435266\n",
      "Time:  2.703333333333333 \n",
      "Length:  2491392\n"
     ]
    }
   ],
   "source": [
    "import math \n",
    "import mne\n",
    "import numpy as np\n",
    "import pandas as pd\n",
    "from os import listdir\n",
    "from os.path import isfile, join\n",
    "# import heartpy as hp\n",
    "from scipy.signal import butter, freqs, filtfilt\n",
    "import matplotlib.pyplot as plt\n",
    "from scipy.signal import find_peaks\n",
    "\n",
    "def find_time(sig):\n",
    "    time = ((sig/256)/60)/60\n",
    "    print(\"Time: \", time , \"\\nLength: \",sig)\n",
    "    return ((sig/256)/60)\n",
    "\n",
    "\n",
    "def time_data(min):\n",
    "    return 256*60*min\n",
    "def channel_id(channel, val):   \n",
    "    j =0\n",
    "    for i in channel:\n",
    "        if(i == val):\n",
    "            return j\n",
    "        \n",
    "        j+=1\n",
    "        \n",
    "filename = 'dataset/AJUGEORGE.edf'\n",
    "data = mne.io.read_raw_edf(filename)\n",
    "info = data.info\n",
    "channels = data.ch_names\n",
    "raw_data = data.get_data()\n",
    "\n",
    "del data\n",
    "\n",
    "ecgl = raw_data[channel_id(channels,'ECGL')]\n",
    "ecgr = raw_data[channel_id(channels,'ECGR')]\n",
    "del raw_data\n",
    "\n",
    "sig = ecgl[:] -ecgr[:]\n",
    "del ecgl\n",
    "del ecgr\n",
    "\n",
    "fs = 256\n",
    "n = len(sig)\n",
    "# n = 1000\n",
    "fc = 4\n",
    "b, a = butter(6, fc/(fs/2), 'low', analog=False)\n",
    "\n",
    "y = filtfilt(b, a, sig[:])\n",
    "\n",
    "\n",
    "peaks, _ = find_peaks(sig, distance = 150, height=0)\n",
    "peaks_num = (len(peaks))                            \n",
    "plt.plot(sig, 'b-', linewidth = 1)\n",
    "plt.plot(peaks, y[peaks], \"*\", color=\"red\")         \n",
    "# fig1 = plt.gfc()\n",
    "plt.show()   \n",
    "\n",
    "beat_count = len(peaks)\n",
    "fs = 256\n",
    "n = len(sig)\n",
    "duration_sec = n/fs\n",
    "duration_min = duration_sec/60\n",
    "bpm_avg = beat_count/duration_min\n",
    "print(bpm_avg)\n",
    "\n",
    "\n",
    "peak_time = []\n",
    "for i in range(0, len(peaks)):\n",
    "    peak_time.append(peaks[i]/256)\n",
    "pt_mean = np.array(peak_time).mean()\n",
    "\n",
    "inter_peak_time = []\n",
    "rmsd_sum = 0\n",
    "for i in range(0, len(y[peaks])-1):\n",
    "    inter_peak_time.append((peaks[i+1]/256)*1000 - (peaks[i]/256)*1000)\n",
    "    rmsd_sum += pow((peaks[i+1]/256)*1000 - (peaks[i]/256)*1000, 2)\n",
    "\n",
    "ipt_mean = np.array(inter_peak_time).mean()\n",
    "ipt_max = np.array(inter_peak_time).max()\n",
    "ipt_min = np.array(inter_peak_time).min()    \n",
    "\n",
    "sdnn = np.array(inter_peak_time).std()\n",
    "rmsd = np.sqrt(rmsd_sum/(len(inter_peak_time)))\n",
    "\n",
    "data = [[filename.split(\".\")[0], find_time(len(sig)), bpm_avg, round(sdnn), math.log(rmsd,2),round(ipt_mean), round(ipt_max), round(ipt_min), round(pt_mean)]]\n",
    "df1 = pd.DataFrame(data,columns=['File Name','Duration(min)','BPM','SDNN (ms)','RMSD (ms)','Inter Peak Interval Avg (ms)','Inter Peak Time Interval Max(ms)','Inter Peak Time Interval Min(ms)','Peak Time Mean(sec)'])\n",
    "# df = df.append(df1,  ignore_index = True)\n",
    "del sig"
   ]
  },
  {
   "cell_type": "code",
   "execution_count": 21,
   "metadata": {},
   "outputs": [
    {
     "data": {
      "text/html": [
       "<div>\n",
       "<style scoped>\n",
       "    .dataframe tbody tr th:only-of-type {\n",
       "        vertical-align: middle;\n",
       "    }\n",
       "\n",
       "    .dataframe tbody tr th {\n",
       "        vertical-align: top;\n",
       "    }\n",
       "\n",
       "    .dataframe thead th {\n",
       "        text-align: right;\n",
       "    }\n",
       "</style>\n",
       "<table border=\"1\" class=\"dataframe\">\n",
       "  <thead>\n",
       "    <tr style=\"text-align: right;\">\n",
       "      <th></th>\n",
       "      <th>File Name</th>\n",
       "      <th>Duration(min)</th>\n",
       "      <th>BPM</th>\n",
       "      <th>SDNN (ms)</th>\n",
       "      <th>RMSD (ms)</th>\n",
       "      <th>Inter Peak Interval Avg (ms)</th>\n",
       "      <th>Inter Peak Time Interval Max(ms)</th>\n",
       "      <th>Inter Peak Time Interval Min(ms)</th>\n",
       "      <th>Peak Time Mean(sec)</th>\n",
       "    </tr>\n",
       "  </thead>\n",
       "  <tbody>\n",
       "    <tr>\n",
       "      <th>0</th>\n",
       "      <td>dataset/AJUGEORGE</td>\n",
       "      <td>5.0</td>\n",
       "      <td>81.8</td>\n",
       "      <td>32.0</td>\n",
       "      <td>9.519636</td>\n",
       "      <td>734.0</td>\n",
       "      <td>883.0</td>\n",
       "      <td>664.0</td>\n",
       "      <td>149.0</td>\n",
       "    </tr>\n",
       "  </tbody>\n",
       "</table>\n",
       "</div>"
      ],
      "text/plain": [
       "           File Name  Duration(min)   BPM  SDNN (ms)  RMSD (ms)  \\\n",
       "0  dataset/AJUGEORGE            5.0  81.8       32.0   9.519636   \n",
       "\n",
       "   Inter Peak Interval Avg (ms)  Inter Peak Time Interval Max(ms)  \\\n",
       "0                         734.0                             883.0   \n",
       "\n",
       "   Inter Peak Time Interval Min(ms)  Peak Time Mean(sec)  \n",
       "0                             664.0                149.0  "
      ]
     },
     "execution_count": 21,
     "metadata": {},
     "output_type": "execute_result"
    }
   ],
   "source": [
    "df1"
   ]
  },
  {
   "cell_type": "code",
   "execution_count": 17,
   "metadata": {},
   "outputs": [
    {
     "data": {
      "text/html": [
       "<div>\n",
       "<style scoped>\n",
       "    .dataframe tbody tr th:only-of-type {\n",
       "        vertical-align: middle;\n",
       "    }\n",
       "\n",
       "    .dataframe tbody tr th {\n",
       "        vertical-align: top;\n",
       "    }\n",
       "\n",
       "    .dataframe thead th {\n",
       "        text-align: right;\n",
       "    }\n",
       "</style>\n",
       "<table border=\"1\" class=\"dataframe\">\n",
       "  <thead>\n",
       "    <tr style=\"text-align: right;\">\n",
       "      <th></th>\n",
       "      <th>File Name</th>\n",
       "      <th>Duration</th>\n",
       "      <th>BPM</th>\n",
       "      <th>SDNN (ms)</th>\n",
       "      <th>RMSD (ms)</th>\n",
       "      <th>Inter Peak Interval Avg (ms)</th>\n",
       "      <th>Inter Peak Time Interval Max(ms)</th>\n",
       "      <th>Inter Peak Time Interval Min(ms)</th>\n",
       "      <th>Peak Time Mean(sec)</th>\n",
       "    </tr>\n",
       "  </thead>\n",
       "  <tbody>\n",
       "    <tr>\n",
       "      <th>0</th>\n",
       "      <td>dataset/AJUGEORGE</td>\n",
       "      <td>10.0</td>\n",
       "      <td>80.7</td>\n",
       "      <td>37.0</td>\n",
       "      <td>9.539159</td>\n",
       "      <td>743.0</td>\n",
       "      <td>934.0</td>\n",
       "      <td>652.0</td>\n",
       "      <td>297.0</td>\n",
       "    </tr>\n",
       "  </tbody>\n",
       "</table>\n",
       "</div>"
      ],
      "text/plain": [
       "           File Name  Duration   BPM  SDNN (ms)  RMSD (ms)  \\\n",
       "0  dataset/AJUGEORGE      10.0  80.7       37.0   9.539159   \n",
       "\n",
       "   Inter Peak Interval Avg (ms)  Inter Peak Time Interval Max(ms)  \\\n",
       "0                         743.0                             934.0   \n",
       "\n",
       "   Inter Peak Time Interval Min(ms)  Peak Time Mean(sec)  \n",
       "0                             652.0                297.0  "
      ]
     },
     "execution_count": 17,
     "metadata": {},
     "output_type": "execute_result"
    }
   ],
   "source": [
    "df1"
   ]
  },
  {
   "cell_type": "code",
   "execution_count": 24,
   "metadata": {},
   "outputs": [
    {
     "data": {
      "text/html": [
       "<div>\n",
       "<style scoped>\n",
       "    .dataframe tbody tr th:only-of-type {\n",
       "        vertical-align: middle;\n",
       "    }\n",
       "\n",
       "    .dataframe tbody tr th {\n",
       "        vertical-align: top;\n",
       "    }\n",
       "\n",
       "    .dataframe thead th {\n",
       "        text-align: right;\n",
       "    }\n",
       "</style>\n",
       "<table border=\"1\" class=\"dataframe\">\n",
       "  <thead>\n",
       "    <tr style=\"text-align: right;\">\n",
       "      <th></th>\n",
       "      <th>File Name</th>\n",
       "      <th>Duration(min)</th>\n",
       "      <th>BPM</th>\n",
       "      <th>SDNN (ms)</th>\n",
       "      <th>RMSD (ms)</th>\n",
       "      <th>Inter Peak Interval Avg (ms)</th>\n",
       "      <th>Inter Peak Time Interval Max(ms)</th>\n",
       "      <th>Inter Peak Time Interval Min(ms)</th>\n",
       "      <th>Peak Time Mean(sec)</th>\n",
       "    </tr>\n",
       "  </thead>\n",
       "  <tbody>\n",
       "    <tr>\n",
       "      <th>0</th>\n",
       "      <td>dataset/AJUGEORGE</td>\n",
       "      <td>30.0</td>\n",
       "      <td>78.766667</td>\n",
       "      <td>46.0</td>\n",
       "      <td>9.575539</td>\n",
       "      <td>762.0</td>\n",
       "      <td>1023.0</td>\n",
       "      <td>617.0</td>\n",
       "      <td>889.0</td>\n",
       "    </tr>\n",
       "  </tbody>\n",
       "</table>\n",
       "</div>"
      ],
      "text/plain": [
       "           File Name  Duration(min)        BPM  SDNN (ms)  RMSD (ms)  \\\n",
       "0  dataset/AJUGEORGE           30.0  78.766667       46.0   9.575539   \n",
       "\n",
       "   Inter Peak Interval Avg (ms)  Inter Peak Time Interval Max(ms)  \\\n",
       "0                         762.0                            1023.0   \n",
       "\n",
       "   Inter Peak Time Interval Min(ms)  Peak Time Mean(sec)  \n",
       "0                             617.0                889.0  "
      ]
     },
     "execution_count": 24,
     "metadata": {},
     "output_type": "execute_result"
    }
   ],
   "source": [
    "df1"
   ]
  },
  {
   "cell_type": "code",
   "execution_count": 27,
   "metadata": {},
   "outputs": [
    {
     "data": {
      "text/html": [
       "<div>\n",
       "<style scoped>\n",
       "    .dataframe tbody tr th:only-of-type {\n",
       "        vertical-align: middle;\n",
       "    }\n",
       "\n",
       "    .dataframe tbody tr th {\n",
       "        vertical-align: top;\n",
       "    }\n",
       "\n",
       "    .dataframe thead th {\n",
       "        text-align: right;\n",
       "    }\n",
       "</style>\n",
       "<table border=\"1\" class=\"dataframe\">\n",
       "  <thead>\n",
       "    <tr style=\"text-align: right;\">\n",
       "      <th></th>\n",
       "      <th>File Name</th>\n",
       "      <th>Duration(min)</th>\n",
       "      <th>BPM</th>\n",
       "      <th>SDNN (ms)</th>\n",
       "      <th>RMSD (ms)</th>\n",
       "      <th>Inter Peak Interval Avg (ms)</th>\n",
       "      <th>Inter Peak Time Interval Max(ms)</th>\n",
       "      <th>Inter Peak Time Interval Min(ms)</th>\n",
       "      <th>Peak Time Mean(sec)</th>\n",
       "    </tr>\n",
       "  </thead>\n",
       "  <tbody>\n",
       "    <tr>\n",
       "      <th>0</th>\n",
       "      <td>dataset/AJUGEORGE</td>\n",
       "      <td>60.0</td>\n",
       "      <td>78.15</td>\n",
       "      <td>62.0</td>\n",
       "      <td>9.588715</td>\n",
       "      <td>768.0</td>\n",
       "      <td>2129.0</td>\n",
       "      <td>586.0</td>\n",
       "      <td>1789.0</td>\n",
       "    </tr>\n",
       "  </tbody>\n",
       "</table>\n",
       "</div>"
      ],
      "text/plain": [
       "           File Name  Duration(min)    BPM  SDNN (ms)  RMSD (ms)  \\\n",
       "0  dataset/AJUGEORGE           60.0  78.15       62.0   9.588715   \n",
       "\n",
       "   Inter Peak Interval Avg (ms)  Inter Peak Time Interval Max(ms)  \\\n",
       "0                         768.0                            2129.0   \n",
       "\n",
       "   Inter Peak Time Interval Min(ms)  Peak Time Mean(sec)  \n",
       "0                             586.0               1789.0  "
      ]
     },
     "execution_count": 27,
     "metadata": {},
     "output_type": "execute_result"
    }
   ],
   "source": [
    "df1"
   ]
  },
  {
   "cell_type": "code",
   "execution_count": 29,
   "metadata": {},
   "outputs": [
    {
     "data": {
      "text/html": [
       "<div>\n",
       "<style scoped>\n",
       "    .dataframe tbody tr th:only-of-type {\n",
       "        vertical-align: middle;\n",
       "    }\n",
       "\n",
       "    .dataframe tbody tr th {\n",
       "        vertical-align: top;\n",
       "    }\n",
       "\n",
       "    .dataframe thead th {\n",
       "        text-align: right;\n",
       "    }\n",
       "</style>\n",
       "<table border=\"1\" class=\"dataframe\">\n",
       "  <thead>\n",
       "    <tr style=\"text-align: right;\">\n",
       "      <th></th>\n",
       "      <th>File Name</th>\n",
       "      <th>Duration(min)</th>\n",
       "      <th>BPM</th>\n",
       "      <th>SDNN (ms)</th>\n",
       "      <th>RMSD (ms)</th>\n",
       "      <th>Inter Peak Interval Avg (ms)</th>\n",
       "      <th>Inter Peak Time Interval Max(ms)</th>\n",
       "      <th>Inter Peak Time Interval Min(ms)</th>\n",
       "      <th>Peak Time Mean(sec)</th>\n",
       "    </tr>\n",
       "  </thead>\n",
       "  <tbody>\n",
       "    <tr>\n",
       "      <th>0</th>\n",
       "      <td>dataset/AJUGEORGE</td>\n",
       "      <td>120.0</td>\n",
       "      <td>78.491667</td>\n",
       "      <td>109.0</td>\n",
       "      <td>9.592457</td>\n",
       "      <td>764.0</td>\n",
       "      <td>3043.0</td>\n",
       "      <td>586.0</td>\n",
       "      <td>3593.0</td>\n",
       "    </tr>\n",
       "  </tbody>\n",
       "</table>\n",
       "</div>"
      ],
      "text/plain": [
       "           File Name  Duration(min)        BPM  SDNN (ms)  RMSD (ms)  \\\n",
       "0  dataset/AJUGEORGE          120.0  78.491667      109.0   9.592457   \n",
       "\n",
       "   Inter Peak Interval Avg (ms)  Inter Peak Time Interval Max(ms)  \\\n",
       "0                         764.0                            3043.0   \n",
       "\n",
       "   Inter Peak Time Interval Min(ms)  Peak Time Mean(sec)  \n",
       "0                             586.0               3593.0  "
      ]
     },
     "execution_count": 29,
     "metadata": {},
     "output_type": "execute_result"
    }
   ],
   "source": [
    "df1"
   ]
  },
  {
   "cell_type": "code",
   "execution_count": 31,
   "metadata": {},
   "outputs": [
    {
     "data": {
      "text/html": [
       "<div>\n",
       "<style scoped>\n",
       "    .dataframe tbody tr th:only-of-type {\n",
       "        vertical-align: middle;\n",
       "    }\n",
       "\n",
       "    .dataframe tbody tr th {\n",
       "        vertical-align: top;\n",
       "    }\n",
       "\n",
       "    .dataframe thead th {\n",
       "        text-align: right;\n",
       "    }\n",
       "</style>\n",
       "<table border=\"1\" class=\"dataframe\">\n",
       "  <thead>\n",
       "    <tr style=\"text-align: right;\">\n",
       "      <th></th>\n",
       "      <th>File Name</th>\n",
       "      <th>Duration(min)</th>\n",
       "      <th>BPM</th>\n",
       "      <th>SDNN (ms)</th>\n",
       "      <th>RMSD (ms)</th>\n",
       "      <th>Inter Peak Interval Avg (ms)</th>\n",
       "      <th>Inter Peak Time Interval Max(ms)</th>\n",
       "      <th>Inter Peak Time Interval Min(ms)</th>\n",
       "      <th>Peak Time Mean(sec)</th>\n",
       "    </tr>\n",
       "  </thead>\n",
       "  <tbody>\n",
       "    <tr>\n",
       "      <th>0</th>\n",
       "      <td>dataset/Balakrishna</td>\n",
       "      <td>120.0</td>\n",
       "      <td>67.016667</td>\n",
       "      <td>119.0</td>\n",
       "      <td>9.818582</td>\n",
       "      <td>895.0</td>\n",
       "      <td>6203.0</td>\n",
       "      <td>594.0</td>\n",
       "      <td>3591.0</td>\n",
       "    </tr>\n",
       "  </tbody>\n",
       "</table>\n",
       "</div>"
      ],
      "text/plain": [
       "             File Name  Duration(min)        BPM  SDNN (ms)  RMSD (ms)  \\\n",
       "0  dataset/Balakrishna          120.0  67.016667      119.0   9.818582   \n",
       "\n",
       "   Inter Peak Interval Avg (ms)  Inter Peak Time Interval Max(ms)  \\\n",
       "0                         895.0                            6203.0   \n",
       "\n",
       "   Inter Peak Time Interval Min(ms)  Peak Time Mean(sec)  \n",
       "0                             594.0               3591.0  "
      ]
     },
     "execution_count": 31,
     "metadata": {},
     "output_type": "execute_result"
    }
   ],
   "source": [
    "df1"
   ]
  },
  {
   "cell_type": "code",
   "execution_count": 33,
   "metadata": {},
   "outputs": [
    {
     "data": {
      "text/html": [
       "<div>\n",
       "<style scoped>\n",
       "    .dataframe tbody tr th:only-of-type {\n",
       "        vertical-align: middle;\n",
       "    }\n",
       "\n",
       "    .dataframe tbody tr th {\n",
       "        vertical-align: top;\n",
       "    }\n",
       "\n",
       "    .dataframe thead th {\n",
       "        text-align: right;\n",
       "    }\n",
       "</style>\n",
       "<table border=\"1\" class=\"dataframe\">\n",
       "  <thead>\n",
       "    <tr style=\"text-align: right;\">\n",
       "      <th></th>\n",
       "      <th>File Name</th>\n",
       "      <th>Duration(min)</th>\n",
       "      <th>BPM</th>\n",
       "      <th>SDNN (ms)</th>\n",
       "      <th>RMSD (ms)</th>\n",
       "      <th>Inter Peak Interval Avg (ms)</th>\n",
       "      <th>Inter Peak Time Interval Max(ms)</th>\n",
       "      <th>Inter Peak Time Interval Min(ms)</th>\n",
       "      <th>Peak Time Mean(sec)</th>\n",
       "    </tr>\n",
       "  </thead>\n",
       "  <tbody>\n",
       "    <tr>\n",
       "      <th>0</th>\n",
       "      <td>dataset/BHADRA</td>\n",
       "      <td>120.0</td>\n",
       "      <td>69.316667</td>\n",
       "      <td>107.0</td>\n",
       "      <td>9.768184</td>\n",
       "      <td>866.0</td>\n",
       "      <td>3492.0</td>\n",
       "      <td>586.0</td>\n",
       "      <td>3475.0</td>\n",
       "    </tr>\n",
       "  </tbody>\n",
       "</table>\n",
       "</div>"
      ],
      "text/plain": [
       "        File Name  Duration(min)        BPM  SDNN (ms)  RMSD (ms)  \\\n",
       "0  dataset/BHADRA          120.0  69.316667      107.0   9.768184   \n",
       "\n",
       "   Inter Peak Interval Avg (ms)  Inter Peak Time Interval Max(ms)  \\\n",
       "0                         866.0                            3492.0   \n",
       "\n",
       "   Inter Peak Time Interval Min(ms)  Peak Time Mean(sec)  \n",
       "0                             586.0               3475.0  "
      ]
     },
     "execution_count": 33,
     "metadata": {},
     "output_type": "execute_result"
    }
   ],
   "source": [
    "df1"
   ]
  },
  {
   "cell_type": "code",
   "execution_count": 52,
   "metadata": {},
   "outputs": [
    {
     "data": {
      "text/html": [
       "<div>\n",
       "<style scoped>\n",
       "    .dataframe tbody tr th:only-of-type {\n",
       "        vertical-align: middle;\n",
       "    }\n",
       "\n",
       "    .dataframe tbody tr th {\n",
       "        vertical-align: top;\n",
       "    }\n",
       "\n",
       "    .dataframe thead th {\n",
       "        text-align: right;\n",
       "    }\n",
       "</style>\n",
       "<table border=\"1\" class=\"dataframe\">\n",
       "  <thead>\n",
       "    <tr style=\"text-align: right;\">\n",
       "      <th></th>\n",
       "      <th>File Name</th>\n",
       "      <th>Duration(min)</th>\n",
       "      <th>BPM</th>\n",
       "      <th>SDNN (ms)</th>\n",
       "      <th>RMSD (ms)</th>\n",
       "      <th>Inter Peak Interval Avg (ms)</th>\n",
       "      <th>Inter Peak Time Interval Max(ms)</th>\n",
       "      <th>Inter Peak Time Interval Min(ms)</th>\n",
       "      <th>Peak Time Mean(sec)</th>\n",
       "    </tr>\n",
       "  </thead>\n",
       "  <tbody>\n",
       "    <tr>\n",
       "      <th>0</th>\n",
       "      <td>dataset/AJUGEORGE</td>\n",
       "      <td>120.0</td>\n",
       "      <td>78.491667</td>\n",
       "      <td>109.0</td>\n",
       "      <td>9.592732</td>\n",
       "      <td>764.0</td>\n",
       "      <td>3043.0</td>\n",
       "      <td>586.0</td>\n",
       "      <td>3593.0</td>\n",
       "    </tr>\n",
       "  </tbody>\n",
       "</table>\n",
       "</div>"
      ],
      "text/plain": [
       "           File Name  Duration(min)        BPM  SDNN (ms)  RMSD (ms)  \\\n",
       "0  dataset/AJUGEORGE          120.0  78.491667      109.0   9.592732   \n",
       "\n",
       "   Inter Peak Interval Avg (ms)  Inter Peak Time Interval Max(ms)  \\\n",
       "0                         764.0                            3043.0   \n",
       "\n",
       "   Inter Peak Time Interval Min(ms)  Peak Time Mean(sec)  \n",
       "0                             586.0               3593.0  "
      ]
     },
     "execution_count": 52,
     "metadata": {},
     "output_type": "execute_result"
    }
   ],
   "source": [
    "df1"
   ]
  },
  {
   "cell_type": "code",
   "execution_count": 54,
   "metadata": {},
   "outputs": [
    {
     "data": {
      "text/html": [
       "<div>\n",
       "<style scoped>\n",
       "    .dataframe tbody tr th:only-of-type {\n",
       "        vertical-align: middle;\n",
       "    }\n",
       "\n",
       "    .dataframe tbody tr th {\n",
       "        vertical-align: top;\n",
       "    }\n",
       "\n",
       "    .dataframe thead th {\n",
       "        text-align: right;\n",
       "    }\n",
       "</style>\n",
       "<table border=\"1\" class=\"dataframe\">\n",
       "  <thead>\n",
       "    <tr style=\"text-align: right;\">\n",
       "      <th></th>\n",
       "      <th>File Name</th>\n",
       "      <th>Duration(min)</th>\n",
       "      <th>BPM</th>\n",
       "      <th>SDNN (ms)</th>\n",
       "      <th>RMSD (ms)</th>\n",
       "      <th>Inter Peak Interval Avg (ms)</th>\n",
       "      <th>Inter Peak Time Interval Max(ms)</th>\n",
       "      <th>Inter Peak Time Interval Min(ms)</th>\n",
       "      <th>Peak Time Mean(sec)</th>\n",
       "    </tr>\n",
       "  </thead>\n",
       "  <tbody>\n",
       "    <tr>\n",
       "      <th>0</th>\n",
       "      <td>dataset/AJUGEORGE</td>\n",
       "      <td>162.2</td>\n",
       "      <td>75.345253</td>\n",
       "      <td>234.0</td>\n",
       "      <td>9.69676</td>\n",
       "      <td>796.0</td>\n",
       "      <td>5961.0</td>\n",
       "      <td>586.0</td>\n",
       "      <td>4704.0</td>\n",
       "    </tr>\n",
       "  </tbody>\n",
       "</table>\n",
       "</div>"
      ],
      "text/plain": [
       "           File Name  Duration(min)        BPM  SDNN (ms)  RMSD (ms)  \\\n",
       "0  dataset/AJUGEORGE          162.2  75.345253      234.0    9.69676   \n",
       "\n",
       "   Inter Peak Interval Avg (ms)  Inter Peak Time Interval Max(ms)  \\\n",
       "0                         796.0                            5961.0   \n",
       "\n",
       "   Inter Peak Time Interval Min(ms)  Peak Time Mean(sec)  \n",
       "0                             586.0               4704.0  "
      ]
     },
     "execution_count": 54,
     "metadata": {},
     "output_type": "execute_result"
    }
   ],
   "source": [
    "df1"
   ]
  },
  {
   "cell_type": "code",
   "execution_count": 74,
   "metadata": {},
   "outputs": [
    {
     "data": {
      "text/html": [
       "<div>\n",
       "<style scoped>\n",
       "    .dataframe tbody tr th:only-of-type {\n",
       "        vertical-align: middle;\n",
       "    }\n",
       "\n",
       "    .dataframe tbody tr th {\n",
       "        vertical-align: top;\n",
       "    }\n",
       "\n",
       "    .dataframe thead th {\n",
       "        text-align: right;\n",
       "    }\n",
       "</style>\n",
       "<table border=\"1\" class=\"dataframe\">\n",
       "  <thead>\n",
       "    <tr style=\"text-align: right;\">\n",
       "      <th></th>\n",
       "      <th>File Name</th>\n",
       "      <th>Duration(min)</th>\n",
       "      <th>BPM</th>\n",
       "      <th>SDNN (ms)</th>\n",
       "      <th>RMSD (ms)</th>\n",
       "      <th>Inter Peak Interval Avg (ms)</th>\n",
       "      <th>Inter Peak Time Interval Max(ms)</th>\n",
       "      <th>Inter Peak Time Interval Min(ms)</th>\n",
       "      <th>Peak Time Mean(sec)</th>\n",
       "    </tr>\n",
       "  </thead>\n",
       "  <tbody>\n",
       "    <tr>\n",
       "      <th>0</th>\n",
       "      <td>dataset/AJUGEORGE</td>\n",
       "      <td>162.2</td>\n",
       "      <td>75.345253</td>\n",
       "      <td>234.0</td>\n",
       "      <td>9.69676</td>\n",
       "      <td>796.0</td>\n",
       "      <td>5961.0</td>\n",
       "      <td>586.0</td>\n",
       "      <td>4704.0</td>\n",
       "    </tr>\n",
       "  </tbody>\n",
       "</table>\n",
       "</div>"
      ],
      "text/plain": [
       "           File Name  Duration(min)        BPM  SDNN (ms)  RMSD (ms)  \\\n",
       "0  dataset/AJUGEORGE          162.2  75.345253      234.0    9.69676   \n",
       "\n",
       "   Inter Peak Interval Avg (ms)  Inter Peak Time Interval Max(ms)  \\\n",
       "0                         796.0                            5961.0   \n",
       "\n",
       "   Inter Peak Time Interval Min(ms)  Peak Time Mean(sec)  \n",
       "0                             586.0               4704.0  "
      ]
     },
     "execution_count": 74,
     "metadata": {},
     "output_type": "execute_result"
    }
   ],
   "source": [
    "df1"
   ]
  },
  {
   "cell_type": "code",
   "execution_count": null,
   "metadata": {},
   "outputs": [],
   "source": []
  }
 ],
 "metadata": {
  "kernelspec": {
   "display_name": "Python 3",
   "language": "python",
   "name": "python3"
  },
  "language_info": {
   "codemirror_mode": {
    "name": "ipython",
    "version": 3
   },
   "file_extension": ".py",
   "mimetype": "text/x-python",
   "name": "python",
   "nbconvert_exporter": "python",
   "pygments_lexer": "ipython3",
   "version": "3.6.5"
  }
 },
 "nbformat": 4,
 "nbformat_minor": 4
}
