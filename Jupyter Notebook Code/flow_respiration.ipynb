{
 "cells": [
  {
   "cell_type": "markdown",
   "metadata": {},
   "source": [
    "# Data Analysis for Flow channel"
   ]
  },
  {
   "cell_type": "markdown",
   "metadata": {},
   "source": [
    "### Required python libraries"
   ]
  },
  {
   "cell_type": "code",
   "execution_count": 65,
   "metadata": {},
   "outputs": [],
   "source": [
    "import os\n",
    "import numpy as np\n",
    "import mne\n",
    "import heartpy as hp\n",
    "import matplotlib.pyplot as plt\n",
    "from scipy.signal import butter, freqs, filtfilt, find_peaks\n",
    "from os import listdir\n",
    "from os.path import isfile, join\n",
    "import pandas as pd\n",
    "import statistics"
   ]
  },
  {
   "cell_type": "markdown",
   "metadata": {},
   "source": [
    "### Importing .edf File"
   ]
  },
  {
   "cell_type": "code",
   "execution_count": 66,
   "metadata": {},
   "outputs": [
    {
     "name": "stdout",
     "output_type": "stream",
     "text": [
      "Extracting EDF parameters from D:\\Dataset\\NewData\\BINDUV~ PSG_9e1a1e68-ac02-4a80-89a4-cdea20ea282a.edf...\n",
      "EDF file detected\n",
      "Setting channel info structure...\n",
      "Creating raw.info structure...\n"
     ]
    }
   ],
   "source": [
    "file = \"../NewData/BINDUV~ PSG_9e1a1e68-ac02-4a80-89a4-cdea20ea282a.edf\"\n",
    "data = mne.io.read_raw_edf(file)"
   ]
  },
  {
   "cell_type": "markdown",
   "metadata": {},
   "source": [
    "### Extracting data from the file"
   ]
  },
  {
   "cell_type": "code",
   "execution_count": 67,
   "metadata": {},
   "outputs": [
    {
     "name": "stdout",
     "output_type": "stream",
     "text": [
      "<Info | 16 non-empty fields\n",
      "    bads : list | 0 items\n",
      "    ch_names : list | Event, C3, O1, A1, Fp1, LOC, CHIN1, ECGL, X2, ...\n",
      "    chs : list | 35 items (EEG: 35)\n",
      "    comps : list | 0 items\n",
      "    custom_ref_applied : bool | False\n",
      "    dev_head_t : Transform | 3 items\n",
      "    events : list | 0 items\n",
      "    highpass : float | 0.0 Hz\n",
      "    hpi_meas : list | 0 items\n",
      "    hpi_results : list | 0 items\n",
      "    lowpass : float | 100.0 Hz\n",
      "    meas_date : tuple | 2019-04-10 22:07:03 GMT\n",
      "    nchan : int | 35\n",
      "    proc_history : list | 0 items\n",
      "    projs : list | 0 items\n",
      "    sfreq : float | 200.0 Hz\n",
      "    acq_pars : NoneType\n",
      "    acq_stim : NoneType\n",
      "    ctf_head_t : NoneType\n",
      "    description : NoneType\n",
      "    dev_ctf_t : NoneType\n",
      "    device_info : NoneType\n",
      "    dig : NoneType\n",
      "    experimenter : NoneType\n",
      "    file_id : NoneType\n",
      "    gantry_angle : NoneType\n",
      "    helium_info : NoneType\n",
      "    hpi_subsystem : NoneType\n",
      "    kit_system_id : NoneType\n",
      "    line_freq : NoneType\n",
      "    meas_id : NoneType\n",
      "    proj_id : NoneType\n",
      "    proj_name : NoneType\n",
      "    subject_info : NoneType\n",
      "    utc_offset : NoneType\n",
      "    xplotter_layout : NoneType\n",
      ">\n"
     ]
    }
   ],
   "source": [
    "raw_data = data.get_data()\n",
    "info = data.info\n",
    "\n",
    "# Un-comment the below code to view the data fields\n",
    "\n",
    "print(info)"
   ]
  },
  {
   "cell_type": "code",
   "execution_count": 68,
   "metadata": {},
   "outputs": [
    {
     "name": "stdout",
     "output_type": "stream",
     "text": [
      "Event       0\n",
      "C3       1\n",
      "O1       2\n",
      "A1       3\n",
      "Fp1       4\n",
      "LOC       5\n",
      "CHIN1       6\n",
      "ECGL       7\n",
      "X2       8\n",
      "RAT1       9\n",
      "X4       10\n",
      "Fz       11\n",
      "X5       12\n",
      "X7       13\n",
      "C4       14\n",
      "O2       15\n",
      "A2       16\n",
      "Fp2       17\n",
      "ROC       18\n",
      "CHIN2       19\n",
      "ECGR       20\n",
      "C44       21\n",
      "RAT2       22\n",
      "X6       23\n",
      "X8       24\n",
      "CHEST       25\n",
      "ABD       26\n",
      "FLOW       27\n",
      "SNORE       28\n",
      "POS       29\n",
      "DC2       30\n",
      "DC3       31\n",
      "DC4       32\n",
      "OSAT       33\n",
      "PR       34\n"
     ]
    }
   ],
   "source": [
    "# Un-comment the below code to view the data channels\n",
    "\n",
    "# print(data.ch_names)\n",
    "data_channel = data.ch_names\n",
    "\n",
    "j = 0\n",
    "for i in data_channel:\n",
    "    print(i , \"     \" , j)\n",
    "    j += 1"
   ]
  },
  {
   "cell_type": "code",
   "execution_count": 69,
   "metadata": {},
   "outputs": [
    {
     "name": "stdout",
     "output_type": "stream",
     "text": [
      "Selected Required Channel:  CHEST\n"
     ]
    }
   ],
   "source": [
    "print(\"Selected Required Channel: \", data.ch_names[25])"
   ]
  },
  {
   "cell_type": "code",
   "execution_count": 118,
   "metadata": {},
   "outputs": [
    {
     "name": "stdout",
     "output_type": "stream",
     "text": [
      "[-4.65224689e-06 -6.24730297e-06 -7.84235904e-06 ...  1.32921340e-07\n",
      "  1.32921340e-07  1.32921340e-07]\n"
     ]
    }
   ],
   "source": [
    "flow = raw_data[25]    # Print the data from Flow channel\n",
    "print(flow)\n",
    "flow = flow[200000:1100000]\n",
    "# Better list containing data\n",
    "# Un-comment the below code for viewing the flow channel data\n",
    "\n",
    "# for i in flow:\n",
    "#     print(i)"
   ]
  },
  {
   "cell_type": "markdown",
   "metadata": {},
   "source": [
    "### Filtering flow signal"
   ]
  },
  {
   "cell_type": "code",
   "execution_count": 119,
   "metadata": {},
   "outputs": [
    {
     "name": "stderr",
     "output_type": "stream",
     "text": [
      "c:\\users\\arjun\\appdata\\local\\programs\\python\\python36\\lib\\site-packages\\scipy\\signal\\_arraytools.py:45: FutureWarning: Using a non-tuple sequence for multidimensional indexing is deprecated; use `arr[tuple(seq)]` instead of `arr[seq]`. In the future this will be interpreted as an array index, `arr[np.array(seq)]`, which will result either in an error or a different result.\n",
      "  b = a[a_slice]\n"
     ]
    },
    {
     "data": {
      "image/png": "[encoded data removed]",
      "text/plain": [
       "<Figure size 432x288 with 1 Axes>"
      ]
     },
     "metadata": {},
     "output_type": "display_data"
    },
    {
     "name": "stdout",
     "output_type": "stream",
     "text": [
      "Beats per minute:  9\n",
      "Number of spikes per minute:  553\n"
     ]
    }
   ],
   "source": [
    "#  Butter Worth Filter\n",
    "fs = 256\n",
    "fc = 0.5\n",
    "b, a = butter(6, fc/(fs/2), 'low', analog=False)\n",
    "\n",
    "# Filtering the signal\n",
    "y = filtfilt(b, a, flow)\n",
    "\n",
    "peaks, _ = find_peaks(y, distance = 150, height=0.0001)\n",
    "# peaks, _ = find_peaks(y, distance = 150, height=)\n",
    "peaks_num = (len(peaks))                             # Contains the total no. of peaks\n",
    "plt.plot(y, 'b-', linewidth = 1)\n",
    "plt.plot(peaks, y[peaks], \"*\", color=\"red\")          # Plotting the peak points\n",
    "# fig1 = plt.gfc()\n",
    "plt.show()                                           # Plotting the flow channel data\n",
    "\n",
    "\n",
    "n = len(flow)\n",
    "new_var = len(peaks)\n",
    "\n",
    "\n",
    "# print(n)\n",
    "duration_sec = n / fs\n",
    "duration_min = duration_sec / 60\n",
    "\n",
    "\n",
    "avg = new_var / duration_min\n",
    "\n",
    "print(\"Beats per minute: \", round(avg))\n",
    "print(\"Number of spikes per minute: \", round(peaks_num, 2))\n"
   ]
  },
  {
   "cell_type": "markdown",
   "metadata": {},
   "source": [
    "### Calculations"
   ]
  },
  {
   "cell_type": "code",
   "execution_count": 120,
   "metadata": {},
   "outputs": [
    {
     "name": "stdout",
     "output_type": "stream",
     "text": [
      "Peak interval Average:  1.4609201838643996e-07\n"
     ]
    },
    {
     "data": {
      "text/plain": [
       "[<matplotlib.lines.Line2D at 0x23502e9a668>]"
      ]
     },
     "execution_count": 120,
     "metadata": {},
     "output_type": "execute_result"
    },
    {
     "data": {
      "image/png": "[encoded data removed]",
      "text/plain": [
       "<Figure size 432x288 with 1 Axes>"
      ]
     },
     "metadata": {},
     "output_type": "display_data"
    }
   ],
   "source": [
    "inter_peak_interval = []\n",
    "inter_peak_interval_index = []\n",
    "\n",
    "for i in range(0, len(y[peaks]) - 1):\n",
    "    inter_peak_interval.append(y[peaks][i + 1] - y[peaks][i])\n",
    "    inter_peak_interval_index.append(i)\n",
    "    \n",
    "ipi_mean = np.array(inter_peak_interval).mean()\n",
    "print('Peak interval Average: ', ipi_mean)\n",
    "\n",
    "\n",
    "plt.plot(inter_peak_interval_index, inter_peak_interval)"
   ]
  },
  {
   "cell_type": "markdown",
   "metadata": {},
   "source": [
    "### Peak Interval Time"
   ]
  },
  {
   "cell_type": "code",
   "execution_count": 48,
   "metadata": {},
   "outputs": [
    {
     "name": "stdout",
     "output_type": "stream",
     "text": [
      "Peak Interval Time average:  3.79\n",
      "Peak Interval Time Max:  6.6\n",
      "Peak Interval Time Min:  0.59\n"
     ]
    }
   ],
   "source": [
    "inter_peak_time = []\n",
    "\n",
    "for i in range(0, len(y[peaks]) - 1):\n",
    "    inter_peak_time.append(((peaks[i+1] - peaks[i]))/fs)\n",
    "    \n",
    "    \n",
    "ipt_mean = np.array(inter_peak_time).mean()\n",
    "ipt_max = np.array(inter_peak_time).max()\n",
    "ipt_min = np.array(inter_peak_time).min()\n",
    "# print(inter_peak_time)\n",
    "\n",
    "# print(peaks)\n",
    "print('Peak Interval Time average: ', round(ipt_mean, 2))\n",
    "print('Peak Interval Time Max: ', round(ipt_max, 2))\n",
    "print('Peak Interval Time Min: ', round(ipt_min, 2))\n"
   ]
  },
  {
   "cell_type": "markdown",
   "metadata": {},
   "source": [
    "### Average Peak Time"
   ]
  },
  {
   "cell_type": "code",
   "execution_count": 49,
   "metadata": {},
   "outputs": [],
   "source": [
    "# peak_time = []\n",
    "# for i in range(0, len(peaks)):\n",
    "#     peak_time.append((peaks[i] / 256))\n",
    "\n",
    "# avg_peak = round(np.array(peak_time).mean())\n",
    "# print(\"Average Peak Time: \", avg_peak)"
   ]
  },
  {
   "cell_type": "code",
   "execution_count": 50,
   "metadata": {},
   "outputs": [],
   "source": [
    "# index = []\n",
    "# for i in range(len(peaks)):\n",
    "#     if peaks[i]>= 1000000 and peaks[i]<=2000000:\n",
    "#         index.append(i)\n",
    "# # print(index)\n",
    "\n",
    "# peak_copy = y[peaks].copy()\n",
    "\n",
    "# begin = index[0]\n",
    "# end = index[-1]\n",
    "\n",
    "# print('Max',y[peaks][begin:end+1].max())\n",
    "# print('Min',y[peaks][begin:end+1].min())\n",
    "\n",
    "# max = y[peaks][begin:end+1].max()\n",
    "# min = y[peaks][begin:end+1].min()\n",
    "# outliers = []\n",
    "# outliers_index = []\n",
    "# for i in range(len(y[peaks])):\n",
    "# #     print(i)\n",
    "#     if y[peaks][i] > max :\n",
    "#         outliers.append(y[peaks])\n",
    "#         outliers_index.append(i)\n",
    "#         peak_copy[i] = max\n",
    "        \n",
    "        \n",
    "# print(len(outliers))\n",
    "# # print(outliers)\n",
    "# print(len(peaks))\n",
    "# print(peak_copy.max())\n",
    "\n",
    "# y[peaks] = peak_copy\n",
    "# print(y[peaks].max())\n",
    "# plt.plot(y, 'b-', linewidth=1)\n",
    "\n",
    "# plt.plot(peaks, peak_copy, \"*\", color=\"red\")"
   ]
  },
  {
   "cell_type": "markdown",
   "metadata": {},
   "source": [
    "### Average Peak Value"
   ]
  },
  {
   "cell_type": "code",
   "execution_count": 51,
   "metadata": {},
   "outputs": [
    {
     "name": "stdout",
     "output_type": "stream",
     "text": [
      "0.0004713503633483819\n"
     ]
    }
   ],
   "source": [
    "peak_mean= np.array(y[peaks]).mean()\n",
    "print(np.array(y[peaks]).mean())"
   ]
  },
  {
   "cell_type": "code",
   "execution_count": null,
   "metadata": {},
   "outputs": [],
   "source": [
    "# np.savetxt('data.csv', (peaks_num, flow_mean))\n",
    "\n",
    "\n",
    "df = pd.DataFrame([])\n",
    "data = [[file,len(flow),dur,round(peaks_num),bpm_avg,ipi_mean,avg_peak]]\n",
    "\n",
    "df1 = pd.DataFrame(data,columns=['File Name','Signal Length','Duration','Beat Count','BPM','Peak Interval Avg','Peak Time Avg'])\n",
    "df = df.append(df1,  ignore_index = True)\n",
    "print(df)\n",
    "df.to_csv(\"Stats_temp.csv\", encoding='utf-8', index=False)"
   ]
  },
  {
   "cell_type": "markdown",
   "metadata": {},
   "source": [
    "---\n",
    "---\n",
    "---\n",
    "---"
   ]
  },
  {
   "cell_type": "markdown",
   "metadata": {},
   "source": [
    "# MultiFile Script"
   ]
  },
  {
   "cell_type": "code",
   "execution_count": null,
   "metadata": {},
   "outputs": [],
   "source": [
    "import mne\n",
    "import numpy as np\n",
    "import pandas as pd\n",
    "from os import listdir\n",
    "from os.path import isfile, join\n",
    "# import heartpy as hp\n",
    "from scipy.signal import butter, freqs, filtfilt\n",
    "import matplotlib.pyplot as plt\n",
    "from scipy.signal import find_peaks\n",
    "\n",
    "onlyfiles = [f for f in listdir(\"./dataset\") if isfile(join(\"./dataset\", f))]\n",
    "df = pd.DataFrame([])\n",
    "def find_time(sig):\n",
    "    time = ((sig/256)/60)/60\n",
    "    print(\"Time: \", time , \"\\nLength: \",sig)\n",
    "    return ((sig/256)/60)/60\n",
    "\n",
    "\n",
    "def channel_id(channel, val):   \n",
    "    j =0\n",
    "    for i in channel:\n",
    "        if(i == val):\n",
    "            return j\n",
    "        \n",
    "        j+=1\n",
    "        \n",
    "current = 1\n",
    "total = len(onlyfiles)\n",
    "for file in onlyfiles:\n",
    "    filename = file\n",
    "    file = join(\"./dataset\", file)\n",
    "    print(\"Processing..\", file, current,\"/\",total)\n",
    "    data = mne.io.read_raw_edf(file)\n",
    "    raw_data = data.get_data()\n",
    "    # you can get the metadata included in the file and a list of all channels:\n",
    "    info = data.info\n",
    "    channels = data.ch_names\n",
    "    sig = raw_data[channel_id(channels,'FLOW')]\n",
    "    \n",
    "    #   print(\"Signal Loaded..\")\n",
    "    fs = 256\n",
    "    n = len(sig)\n",
    "    # n = 1000\n",
    "    fc = 4\n",
    "    duration_sec = n / fs\n",
    "    duration_min = duration_sec / 60\n",
    "\n",
    "    b, a = butter(6, fc/(fs/2), 'low', analog=False)\n",
    "    # w, h = freqs(b, a)\n",
    "\n",
    "    y = filtfilt(b, a, sig[:])\n",
    "\n",
    "    peaks, _ = find_peaks(y, distance = 150, height=0)\n",
    "    plt.plot(y, 'b-', linewidth=1)\n",
    "    plt.plot(peaks, y[peaks], \"*\", color=\"red\")\n",
    "    fig1 = plt.gcf()\n",
    "    plt.show()\n",
    "\n",
    "        \n",
    "    #     fig1.savefig(file.split(\".\")[0]+\".png\", dpi= 100)\n",
    "    beat_count = len(peaks)\n",
    "    fs = 256\n",
    "    n = len(sig)\n",
    "    duration_sec = n/fs\n",
    "    duration_min = duration_sec/60\n",
    "    bpm_avg = beat_count/duration_min\n",
    "    print(bpm_avg)\n",
    "    \n",
    "    inter_peak_interval = []\n",
    "    inter_peak_interval_index = []\n",
    "\n",
    "    for i in range(0, len(y[peaks]) - 1):\n",
    "        inter_peak_interval.append(y[peaks][i + 1] - y[peaks][i])\n",
    "        inter_peak_interval_index.append(i)\n",
    "\n",
    "    ipi_mean = np.array(inter_peak_interval).mean()\n",
    "    print('Peak interval Average: ', ipi_mean)\n",
    "\n",
    "    plt.plot(inter_peak_interval_index, inter_peak_interval)\n",
    "    \n",
    "    inter_peak_time = []\n",
    "\n",
    "    for i in range(0, len(y[peaks]) - 1):\n",
    "        inter_peak_time.append(((peaks[i+1] - peaks[i]))/60)\n",
    "\n",
    "\n",
    "    ipt_mean = np.array(inter_peak_time).mean()\n",
    "    ipt_max = np.array(inter_peak_time).max()\n",
    "    ipt_min = np.array(inter_peak_time).min()\n",
    "    # print(inter_peak_time)\n",
    "\n",
    "    # print(peaks)\n",
    "    print('Peak Interval Time average: ',ipt_mean)\n",
    "    print('Peak Interval Time Max: ',ipt_max)\n",
    "    print('Peak Interval Time Min: ',ipt_min)\n",
    "    \n",
    "    data = [[file,find_time(len(sig)),bpm_avg,ipi_mean,ipt_max,ipt_min,avg_peak, np.array(y[peaks]).mean()]]\n",
    "    current+=1\n",
    "    df1 = pd.DataFrame(data,columns=['File Name','Duration','BPM','Peak Interval Avg','Peak Time Interval Max','Peak Time Interval Min','Peak Time Avg','Peak Avg'])\n",
    "    df = df.append(df1,  ignore_index = True)\n",
    "    print(df)\n",
    "\n",
    "\n",
    "df.to_csv(\"Flow.csv\", encoding='utf-8', index=False)"
   ]
  },
  {
   "cell_type": "code",
   "execution_count": null,
   "metadata": {},
   "outputs": [],
   "source": []
  }
 ],
 "metadata": {
  "kernelspec": {
   "display_name": "Python 3",
   "language": "python",
   "name": "python3"
  },
  "language_info": {
   "codemirror_mode": {
    "name": "ipython",
    "version": 3
   },
   "file_extension": ".py",
   "mimetype": "text/x-python",
   "name": "python",
   "nbconvert_exporter": "python",
   "pygments_lexer": "ipython3",
   "version": "3.6.5"
  }
 },
 "nbformat": 4,
 "nbformat_minor": 4
}
